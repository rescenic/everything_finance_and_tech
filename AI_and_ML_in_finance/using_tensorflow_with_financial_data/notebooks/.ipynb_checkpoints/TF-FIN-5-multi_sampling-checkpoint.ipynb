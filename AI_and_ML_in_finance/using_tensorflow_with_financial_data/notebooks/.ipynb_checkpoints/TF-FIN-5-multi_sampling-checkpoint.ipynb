{
 "cells": [
  {
   "cell_type": "code",
   "execution_count": 1,
   "metadata": {
    "collapsed": false
   },
   "outputs": [
    {
     "name": "stdout",
     "output_type": "stream",
     "text": [
      "Populating the interactive namespace from numpy and matplotlib\n"
     ]
    }
   ],
   "source": [
    "%pylab inline\n",
    "import matplotlib.pyplot as plt\n",
    "import tensorflow as tf\n",
    "import numpy as np\n",
    "import numpy.random as rng\n",
    "import pandas.io.data as web\n",
    "import numpy as np\n",
    "import pandas as pd"
   ]
  },
  {
   "cell_type": "code",
   "execution_count": null,
   "metadata": {
    "collapsed": false
   },
   "outputs": [],
   "source": []
  },
  {
   "cell_type": "code",
   "execution_count": 2,
   "metadata": {
    "collapsed": false
   },
   "outputs": [],
   "source": [
    "# we modify this data organizing slightly to get two symbols\n",
    "def get_prices(symbol):\n",
    "    start, end = '2007-05-02', '2016-04-11'\n",
    "    data = web.DataReader(symbol, 'yahoo', start, end)\n",
    "    data=pd.DataFrame(data)\n",
    "    prices=data['Adj Close']\n",
    "    prices=prices.astype(float)\n",
    "    return prices\n",
    "\n",
    "def get_returns(prices):\n",
    "        return ((prices-prices.shift(-1))/prices)[:-1]\n",
    "    \n",
    "def get_data(list):\n",
    "    l = []\n",
    "    for symbol in list:\n",
    "        rets = get_returns(get_prices(symbol))\n",
    "        l.append(rets)\n",
    "    return np.array(l).T\n",
    "\n",
    "def sort_data(rets):\n",
    "    ins = []\n",
    "    outs = []\n",
    "    for i in range(len(rets)-100):\n",
    "        ins.append(rets[i:i+100].tolist())\n",
    "        outs.append(rets[i+100])\n",
    "    return np.array(ins), np.array(outs)\n",
    "        \n"
   ]
  },
  {
   "cell_type": "code",
   "execution_count": 3,
   "metadata": {
    "collapsed": true
   },
   "outputs": [],
   "source": [
    "symbol_list = ['C', 'GS']\n",
    "rets = get_data(symbol_list)\n",
    "ins, outs = sort_data(rets)\n",
    "ins = ins.transpose([0,2,1]).reshape([-1, len(symbol_list) * 100])\n",
    "div = int(.8 * ins.shape[0])\n",
    "train_ins, train_outs = ins[:div], outs[:div]\n",
    "test_ins, test_outs = ins[div:], outs[div:]\n",
    "\n",
    "#normalize inputs\n",
    "train_ins, test_ins = train_ins/np.std(ins), test_ins/np.std(ins)"
   ]
  },
  {
   "cell_type": "code",
   "execution_count": 4,
   "metadata": {
    "collapsed": true
   },
   "outputs": [],
   "source": [
    "sess = tf.InteractiveSession()"
   ]
  },
  {
   "cell_type": "code",
   "execution_count": 137,
   "metadata": {
    "collapsed": false
   },
   "outputs": [
    {
     "name": "stdout",
     "output_type": "stream",
     "text": [
      "\n"
     ]
    }
   ],
   "source": [
    "positions = tf.constant([-1,0,1]) #long, neutral or short\n",
    "num_positions = 3\n",
    "num_symbols = len(symbol_list)\n",
    "num_samples = 20\n",
    "\n",
    "\n",
    "# define placeholders \n",
    "x = tf.placeholder(tf.float32, [None, num_symbols * 100])\n",
    "y_ = tf.placeholder(tf.float32, [None,  num_symbols])\n",
    "\n",
    "# define trainable variables\n",
    "W = tf.Variable(tf.random_normal([num_symbols * 100, num_positions * num_symbols]))\n",
    "b = tf.Variable(tf.random_normal([num_positions * num_symbols]))\n",
    "\n",
    "# we define our model: y = W*x + b\n",
    "y = tf.matmul(x, W) + b # y is tensor of shape [num_inputs, num_positions * len(symbol_list)]\n",
    "# a row of y will look like [prob_symbol_1_short, prob_symbol_1_neutral, prob_symbol_1_long, prob_symbol_2_short, ...]\n",
    "# note that they are not really probabilities because I did not perform a softmax yet\n",
    "\n",
    "\n",
    "# loop through symbol, taking the columns for each symbol's bucket together\n",
    "pos = {}\n",
    "sample_n = {}\n",
    "sample_mask = {}\n",
    "symbol_returns = {}\n",
    "relevant_target_column = {}\n",
    "for i in range(num_symbols):\n",
    "    # isolate the buckets relevant to the symbol and get a softmax as well\n",
    "    symbol_probs = y[:,i*num_positions:(i+1)*num_positions]\n",
    "    symbol_probs_softmax = tf.nn.softmax(symbol_probs) # softmax[i, j] = exp(logits[i, j]) / sum(exp(logits[i]))\n",
    "    # sample probability to chose our policy's action\n",
    "    sample = tf.multinomial(tf.log(symbol_probs_softmax), num_samples)#sample = tf.argmax(symbol_probs_softmax, 1) #use a real sample\n",
    "        #pos[i] = tf.reshape(sample, [-1]) - 1   # choose(-1,0,1)\n",
    "        # get returns by multiplying the policy (position taken) by the target return for that day\n",
    "        #symbol_returns[i] = tf.mul(tf.cast(pos[i], float32),  y_[:,i])\n",
    "    # isolate the probability of the selected policy (for use in calculating gradient)\n",
    "    for sample_iter in range(num_samples):\n",
    "        sample_n[i*num_samples + sample_iter] = sample[:,sample_iter]\n",
    "        pos[i*num_samples + sample_iter] = tf.reshape(sample_n[i*num_samples + sample_iter], [-1]) - 1\n",
    "        symbol_returns[i*num_samples + sample_iter] = tf.mul(\n",
    "                                                            tf.cast(pos[i*num_samples + sample_iter], float32), \n",
    "                                                             y_[:,i])\n",
    "        \n",
    "        sample_mask[i*num_samples + sample_iter] = tf.cast(tf.reshape(tf.one_hot(sample_n[i*num_samples + sample_iter], 3), [-1,3]), float32)\n",
    "        relevant_target_column[i*num_samples + sample_iter] = tf.reduce_sum(\n",
    "                                                    symbol_probs * sample_mask[i*num_samples + sample_iter],1)\n",
    "    \n",
    "\n",
    "\n",
    "daily_returns_by_symbol_ = tf.concat(1, [tf.reshape(t, [-1,1]) for t in symbol_returns.values()])\n",
    "daily_returns_by_symbol = tf.transpose(tf.reshape(daily_returns_by_symbol_, [-1,2,num_samples]), [0,2,1]) #[?,5,2]\n",
    "daily_returns = tf.reduce_mean(daily_returns_by_symbol, 2) # [?,5]\n",
    "\n",
    "total_return = tf.reduce_prod(daily_returns+1, 0)\n",
    "z = tf.ones_like(total_return) * -1\n",
    "total_return = tf.add(total_return, z)\n",
    "\n",
    "\n",
    "ann_vol = tf.mul(\n",
    "    tf.sqrt(tf.reduce_mean(tf.pow((daily_returns - tf.reduce_mean(daily_returns, 0)),2),0)) ,\n",
    "    np.sqrt(252)\n",
    "    )\n",
    "sharpe = tf.div(total_return, ann_vol)\n",
    "#Maybe metric slicing later\n",
    "#segment_ids = tf.ones_like(daily_returns[:,0])\n",
    "#partial_prod = tf.segment_prod(daily_returns+1, segment_ids)\n",
    "\n",
    "\n",
    "training_target_cols = tf.concat(1, [tf.reshape(t, [-1,1]) for t in relevant_target_column.values()])\n",
    "ones = tf.ones_like(training_target_cols)\n",
    "gradient_ = tf.nn.sigmoid_cross_entropy_with_logits(training_target_cols, ones)\n",
    "\n",
    "gradient = tf.transpose(tf.reshape(gradient_, [-1,2,num_samples]), [0,2,1]) #[?,5,2]\n",
    "\n",
    "#cost = tf.mul(gradient , daily_returns_by_symbol_reshaped)\n",
    "#cost = tf.mul(gradient , tf.expand_dims(daily_returns, -1))\n",
    "#cost = tf.mul(gradient , tf.expand_dims(total_return, -1))\n",
    "cost = tf.mul(gradient , tf.expand_dims(sharpe, -1))\n",
    "\n",
    "optimizer = tf.train.GradientDescentOptimizer(0.05).minimize(cost)\n",
    "costfn = tf.reduce_mean(cost)\n",
    "\n",
    "\n",
    "\n",
    "\n",
    "\n",
    "\n",
    "\n",
    "# calculate the performance metrics for the data chosen\n",
    "#daily_returns_by_symbol = tf.concat(1, [tf.reshape(t, [-1,1]) for t in symbol_returns.values()])\n",
    "#daily_returns = tf.reduce_sum(daily_returns_by_symbol,1)/2\n",
    "#total_return = tf.reduce_prod(daily_returns + 1)\n",
    "#ann_vol = tf.mul(\n",
    " #   tf.sqrt(tf.reduce_mean(tf.pow((daily_returns - tf.reduce_mean(daily_returns)),2))) ,\n",
    " #   np.sqrt(252)\n",
    " #   )\n",
    "#sharpe = total_return / ann_vol\n",
    "\n",
    "'''\n",
    "# since we only train the sampled classes, we will combine them so that we can feed them into cross entropy\n",
    "training_target_cols = tf.concat(1, [tf.reshape(t, [-1,1]) for t in relevant_target_column.values()])\n",
    "# we want to either push the gradient toward our selection or away from it. We use these ones to find the direction\n",
    "#     of the gradient, which we will then multiply by our fitness function\n",
    "ones = tf.ones_like(training_target_cols)\n",
    "\n",
    "# this isnt actuall a gradient, but karpathy sort of calls it one. Since it is a tensor it sort of is a gradient anyway\n",
    "gradient = tf.nn.sigmoid_cross_entropy_with_logits(training_target_cols, ones)\n",
    "\n",
    "# how should we do this step? it depends how we want to group our results. Choose your own adventure here by uncommenting a cost fn\n",
    "# this is the most obvious: we push each weight to what works or not. Try it out...we're gonna be RICH!!!! oh, wait...\n",
    "#cost = tf.mul(gradient , daily_returns_by_symbol)\n",
    "# this takes the overall daily return and pushes the weights so that the overall day wins. Again, it overfits enormously\n",
    "#cost = tf.mul(gradient , tf.reshape(daily_returns,[-1,1]))\n",
    "# this multiplies every gradient by the overall return. If the strategy won for the past ten years, we do more of it and vice versa\n",
    "cost = tf.mul(gradient , total_return)\n",
    "# for printing\n",
    "costfn = tf.reduce_mean(cost)\n",
    "\n",
    "# minimize the cost (push the weights where we want them to go)\n",
    "optimizer = tf.train.GradientDescentOptimizer(0.05).minimize(cost)\n",
    "'''\n",
    "print()"
   ]
  },
  {
   "cell_type": "code",
   "execution_count": 130,
   "metadata": {
    "collapsed": false
   },
   "outputs": [
    {
     "data": {
      "text/plain": [
       "<tf.Tensor 'Mean_50:0' shape=() dtype=float32>"
      ]
     },
     "execution_count": 130,
     "metadata": {},
     "output_type": "execute_result"
    }
   ],
   "source": [
    "costfn\n",
    "#gradient_\n",
    "#total_return"
   ]
  },
  {
   "cell_type": "code",
   "execution_count": 113,
   "metadata": {
    "collapsed": false
   },
   "outputs": [
    {
     "data": {
      "text/plain": [
       "<tf.Tensor 'Add_1:0' shape=(20,) dtype=float32>"
      ]
     },
     "execution_count": 113,
     "metadata": {},
     "output_type": "execute_result"
    }
   ],
   "source": [
    "ann_vol\n",
    "total_return"
   ]
  },
  {
   "cell_type": "code",
   "execution_count": 149,
   "metadata": {
    "collapsed": false,
    "scrolled": true
   },
   "outputs": [
    {
     "name": "stdout",
     "output_type": "stream",
     "text": [
      "Epoch: 0100 cost= 4.0075 total return= 0.410749108 sharpe= 1.227803946\n",
      "Epoch: 0200 cost= 5.79791 total return= 0.325742573 sharpe= 0.908009708\n",
      "Epoch: 0300 cost= 29.9439 total return= 1.916382551 sharpe= 5.669203281\n",
      "Epoch: 0400 cost= 30.9742 total return= 2.846206665 sharpe= 8.231985092\n",
      "Epoch: 0500 cost= 14.2515 total return= 2.010600805 sharpe= 5.734219074\n",
      "Epoch: 0600 cost= 36.9297 total return= 2.298950195 sharpe= 6.386272430\n",
      "Epoch: 0700 cost= 17.9175 total return= 1.090037107 sharpe= 2.921367884\n",
      "Epoch: 0800 cost= 22.0439 total return= 0.870501816 sharpe= 2.314534664\n",
      "Epoch: 0900 cost= 265.804 total return= 5.780017376 sharpe= 15.342338562\n",
      "Epoch: 1000 cost= 336.977 total return= 7.407339573 sharpe= 18.710979462\n",
      "Epoch: 1100 cost= 261.297 total return= 7.243052483 sharpe= 18.231023788\n",
      "Epoch: 1200 cost= 166.946 total return= 4.330142975 sharpe= 11.005815506\n",
      "Epoch: 1300 cost= 133.772 total return= 3.356940508 sharpe= 8.886281013\n",
      "Epoch: 1400 cost= 130.561 total return= 3.171287537 sharpe= 8.084554672\n",
      "Epoch: 1500 cost= 280.925 total return= 5.933093548 sharpe= 15.260545731\n",
      "Epoch: 1600 cost= 141.71 total return= 1.981608987 sharpe= 5.255846024\n",
      "Epoch: 1700 cost= 229.812 total return= 3.756299973 sharpe= 9.602984428\n",
      "Epoch: 1800 cost= 368.397 total return= 6.263023853 sharpe= 16.065864563\n",
      "Epoch: 1900 cost= 196.461 total return= 4.329125404 sharpe= 11.169312477\n",
      "Epoch: 2000 cost= 264.657 total return= 5.718810081 sharpe= 14.863568306\n"
     ]
    }
   ],
   "source": [
    "# initialize variables to random values\n",
    "init = tf.initialize_all_variables()\n",
    "sess.run(init)\n",
    "# run optimizer on entire training data set many times\n",
    "train_size = train_ins.shape[0]\n",
    "for epoch in range(2000):\n",
    "    start = rng.randint(train_size-50)\n",
    "    batch_size = rng.randint(2,75)\n",
    "    end = min(train_size, start+batch_size)\n",
    "    \n",
    "    sess.run(optimizer, feed_dict={x: train_ins[start:end], y_: train_outs[start:end]})#.reshape(1,-1).T})\n",
    "    # every 1000 iterations record progress\n",
    "    if (epoch+1)%100== 0:\n",
    "        t,s, c = sess.run([ total_return, sharpe, costfn], feed_dict={x: train_ins, y_: train_outs})#.reshape(1,-1).T})\n",
    "        t = np.mean(t)\n",
    "        s = np.mean(s)\n",
    "        print(\"Epoch:\", '%04d' % (epoch+1), \"cost=\",c, \"total return=\", \"{:.9f}\".format(t), \n",
    "             \"sharpe=\", \"{:.9f}\".format(s))\n",
    "        #print(t)"
   ]
  },
  {
   "cell_type": "code",
   "execution_count": 150,
   "metadata": {
    "collapsed": false
   },
   "outputs": [],
   "source": [
    "# in sample results\n",
    "#init = tf.initialize_all_variables()\n",
    "#sess.run(init)\n",
    "d, t = sess.run([daily_returns, total_return], feed_dict={x: train_ins, y_: train_outs})"
   ]
  },
  {
   "cell_type": "code",
   "execution_count": 151,
   "metadata": {
    "collapsed": false
   },
   "outputs": [
    {
     "data": {
      "image/png": "[encoded data removed]",
      "text/plain": [
       "<matplotlib.figure.Figure at 0x14daeb630>"
      ]
     },
     "metadata": {},
     "output_type": "display_data"
    }
   ],
   "source": [
    "# equity curve\n",
    "for i in range(5):\n",
    "    plot(np.cumprod(d[:,[i]]+1))"
   ]
  },
  {
   "cell_type": "code",
   "execution_count": 152,
   "metadata": {
    "collapsed": false
   },
   "outputs": [],
   "source": [
    "#out of sample results\n",
    "d, t = sess.run([daily_returns, total_return], feed_dict={x: test_ins, y_: test_outs})"
   ]
  },
  {
   "cell_type": "code",
   "execution_count": 153,
   "metadata": {
    "collapsed": false
   },
   "outputs": [
    {
     "data": {
      "image/png": "[encoded data removed]",
      "text/plain": [
       "<matplotlib.figure.Figure at 0x14d7d36a0>"
      ]
     },
     "metadata": {},
     "output_type": "display_data"
    }
   ],
   "source": [
    "#out of sample results\n",
    "for i in range(5):\n",
    "    plot(np.cumprod(d[:,[i]]+1))"
   ]
  },
  {
   "cell_type": "code",
   "execution_count": null,
   "metadata": {
    "collapsed": true
   },
   "outputs": [],
   "source": []
  },
  {
   "cell_type": "code",
   "execution_count": null,
   "metadata": {
    "collapsed": true
   },
   "outputs": [],
   "source": []
  },
  {
   "cell_type": "code",
   "execution_count": null,
   "metadata": {
    "collapsed": true
   },
   "outputs": [],
   "source": []
  },
  {
   "cell_type": "code",
   "execution_count": null,
   "metadata": {
    "collapsed": true
   },
   "outputs": [],
   "source": []
  },
  {
   "cell_type": "code",
   "execution_count": null,
   "metadata": {
    "collapsed": true
   },
   "outputs": [],
   "source": []
  }
 ],
 "metadata": {
  "kernelspec": {
   "display_name": "Python 3",
   "language": "python",
   "name": "python3"
  },
  "language_info": {
   "codemirror_mode": {
    "name": "ipython",
    "version": 3
   },
   "file_extension": ".py",
   "mimetype": "text/x-python",
   "name": "python",
   "nbconvert_exporter": "python",
   "pygments_lexer": "ipython3",
   "version": "3.4.4"
  }
 },
 "nbformat": 4,
 "nbformat_minor": 0
}
