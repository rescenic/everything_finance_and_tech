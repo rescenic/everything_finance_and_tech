{
 "cells": [
  {
   "cell_type": "code",
   "execution_count": 1,
   "metadata": {
    "collapsed": false
   },
   "outputs": [
    {
     "name": "stdout",
     "output_type": "stream",
     "text": [
      "Populating the interactive namespace from numpy and matplotlib\n"
     ]
    }
   ],
   "source": [
    "%pylab inline\n",
    "import matplotlib.pyplot as plt\n",
    "import tensorflow as tf\n",
    "import numpy as np\n",
    "import numpy.random as rng\n",
    "import pandas.io.data as web\n",
    "import numpy as np\n",
    "import pandas as pd"
   ]
  },
  {
   "cell_type": "code",
   "execution_count": 2,
   "metadata": {
    "collapsed": false
   },
   "outputs": [],
   "source": [
    "\n",
    "def get_prices(symbol):\n",
    "    start, end = '2007-05-02', '2016-04-11'\n",
    "    data = web.DataReader(symbol, 'yahoo', start, end)\n",
    "    data=pd.DataFrame(data)\n",
    "    prices=data['Adj Close']\n",
    "    prices=prices.astype(float)\n",
    "    return prices\n",
    "\n",
    "def get_returns(prices):\n",
    "        return ((prices-prices.shift(-1))/prices)[:-1]\n",
    "    \n",
    "def get_data(list):\n",
    "    l = []\n",
    "    for symbol in list:\n",
    "        rets = get_returns(get_prices(symbol))\n",
    "        l.append(rets)\n",
    "    return np.array(l).T\n",
    "        \n",
    "symbol_list = ['C', 'GS']\n",
    "rets = get_data(symbol_list)"
   ]
  },
  {
   "cell_type": "code",
   "execution_count": 3,
   "metadata": {
    "collapsed": true
   },
   "outputs": [],
   "source": [
    "def lstm_iterator(raw_data, num_steps, data_size):\n",
    "  batch_size=1\n",
    " \n",
    "  raw_data = np.array(raw_data, dtype=np.float32)\n",
    "\n",
    "  data_len = len(raw_data)\n",
    "  batch_len = data_len // batch_size\n",
    "  data = np.zeros([batch_size, batch_len, data_size], dtype=np.float32)\n",
    "  for i in range(batch_size):\n",
    "    data[i] = raw_data[batch_len * i:batch_len * (i + 1),:]\n",
    "\n",
    "  epoch_size = (batch_len - 1) // num_steps\n",
    "\n",
    "  if epoch_size == 0:\n",
    "    raise ValueError(\"epoch_size == 0, decrease batch_size or num_steps\")\n",
    "\n",
    "  for i in range(epoch_size):\n",
    "    x = data[:, i*num_steps:(i+1)*num_steps]\n",
    "    y = data[:, i*num_steps+1:(i+1)*num_steps+1]\n",
    "    yield (x[0], y[0])"
   ]
  },
  {
   "cell_type": "code",
   "execution_count": 4,
   "metadata": {
    "collapsed": false
   },
   "outputs": [
    {
     "data": {
      "text/plain": [
       "\"symbol_list = ['C', 'GS']\\nrets = get_data(symbol_list)\\nins, outs = sort_data(rets)\\nins = ins.transpose([0,2,1]).reshape([-1, len(symbol_list) * 100])\\ndiv = int(.8 * ins.shape[0])\\ntrain_ins, train_outs = ins[:div], outs[:div]\\ntest_ins, test_outs = ins[div:], outs[div:]\\n\\n#normalize inputs\\ntrain_ins, test_ins = train_ins/np.std(ins), test_ins/np.std(ins)\""
      ]
     },
     "execution_count": 4,
     "metadata": {},
     "output_type": "execute_result"
    }
   ],
   "source": [
    "'''symbol_list = ['C', 'GS']\n",
    "rets = get_data(symbol_list)\n",
    "ins, outs = sort_data(rets)\n",
    "ins = ins.transpose([0,2,1]).reshape([-1, len(symbol_list) * 100])\n",
    "div = int(.8 * ins.shape[0])\n",
    "train_ins, train_outs = ins[:div], outs[:div]\n",
    "test_ins, test_outs = ins[div:], outs[div:]\n",
    "\n",
    "#normalize inputs\n",
    "train_ins, test_ins = train_ins/np.std(ins), test_ins/np.std(ins)'''"
   ]
  },
  {
   "cell_type": "code",
   "execution_count": 5,
   "metadata": {
    "collapsed": false
   },
   "outputs": [],
   "source": [
    "#sess = tf.InteractiveSession()"
   ]
  },
  {
   "cell_type": "code",
   "execution_count": 4,
   "metadata": {
    "collapsed": false,
    "scrolled": true
   },
   "outputs": [],
   "source": [
    "class LSTMModel(object):\n",
    "    def __init__(self, num_steps, num_samples):#, config):\n",
    "        symbol_list = ['C', 'GS']\n",
    "\n",
    "        positions = tf.constant([-1,0,1]) #long, neutral or short\n",
    "        num_positions = 3\n",
    "        num_symbols = len(symbol_list)\n",
    "        self.num_samples = num_samples\n",
    "        self.num_steps = num_steps\n",
    "\n",
    "        #n_input = num_symbols * 100\n",
    "\n",
    "        hidden_size=21\n",
    "        n_classes = num_positions * num_symbols\n",
    "\n",
    "        #self.num_steps = tf.placeholder(tf.int64)\n",
    "\n",
    "        # define placeholders \n",
    "        self.inputs_ = tf.placeholder(tf.float32, [None, num_symbols])\n",
    "        self.targets_ = tf.placeholder(tf.float32, [None,  num_symbols])\n",
    "\n",
    "        cell = tf.nn.rnn_cell.BasicLSTMCell(hidden_size, forget_bias=0.0)\n",
    "        #cell = tf.nn.rnn_cell.MultiRNNCell([cell] * config.num_layers)\n",
    "        cell = tf.nn.rnn_cell.InputProjectionWrapper(cell,  num_symbols)\n",
    "        cell = tf.nn.rnn_cell.OutputProjectionWrapper(cell, n_classes)\n",
    "\n",
    "\n",
    "        outputs=[]\n",
    "        self.initial_state = cell.zero_state(1, tf.float32)\n",
    "        state = self.initial_state\n",
    "        time_step = 0\n",
    "        \n",
    "        '''with tf.variable_scope(\"RNN\"):\n",
    "            def body(x):\n",
    "                inp = self.inputs_[time_step,:]\n",
    "                inp = tf.reshape(inp, [1,-1])\n",
    "                (cell_output, state) = cell(inp, state)\n",
    "                outputs.append(cell_output)\n",
    "                return \n",
    "\n",
    "            def condition(x):\n",
    "                return tf.reduce_sum(x) < 100\n",
    "        \n",
    "            tf.while_loop(condition, body, [x])'''\n",
    "            \n",
    "        with tf.variable_scope(\"RNN\"):\n",
    "            for time_step in range(self.num_steps):   #####num_steps???\n",
    "                if time_step > 0: tf.get_variable_scope().reuse_variables()    \n",
    "                inp = self.inputs_[time_step,:]\n",
    "                inp = tf.reshape(inp, [1,-1])\n",
    "                (cell_output, state) = cell(inp, state)\n",
    "                outputs.append(cell_output) #[6,]\n",
    "\n",
    "        self.final_state = state \n",
    "\n",
    "        y = tf.reshape(tf.concat(1, outputs), [-1, n_classes])\n",
    "\n",
    "\n",
    "\n",
    "\n",
    "\n",
    "        # loop through symbol, taking the columns for each symbol's bucket together\n",
    "        pos = {}\n",
    "        sample_n = {}\n",
    "        sample_mask = {}\n",
    "        symbol_returns = {}\n",
    "        relevant_target_column = {}\n",
    "        for i in range(num_symbols):\n",
    "            # isolate the buckets relevant to the symbol and get a softmax as well\n",
    "            symbol_probs = y[:,i*num_positions:(i+1)*num_positions]\n",
    "            symbol_probs_softmax = tf.nn.softmax(symbol_probs) # softmax[i, j] = exp(logits[i, j]) / sum(exp(logits[i]))\n",
    "            # sample probability to chose our policy's action\n",
    "            sample = tf.multinomial(tf.log(symbol_probs_softmax), num_samples)\n",
    "            for sample_iter in range(num_samples):\n",
    "                sample_n[i*num_samples + sample_iter] = sample[:,sample_iter]\n",
    "                pos[i*num_samples + sample_iter] = tf.reshape(sample_n[i*num_samples + sample_iter], [-1]) - 1\n",
    "                symbol_returns[i*num_samples + sample_iter] = tf.mul(\n",
    "                                                                    tf.cast(pos[i*num_samples + sample_iter], float32), \n",
    "                                                                     self.targets_[:,i])\n",
    "\n",
    "                sample_mask[i*num_samples + sample_iter] = tf.cast(tf.reshape(tf.one_hot(sample_n[i*num_samples + sample_iter], 3), [-1,3]), float32)\n",
    "                relevant_target_column[i*num_samples + sample_iter] = tf.reduce_sum(\n",
    "                                                            symbol_probs * sample_mask[i*num_samples + sample_iter],1)\n",
    "\n",
    "\n",
    "\n",
    "        daily_returns_by_symbol_ = tf.concat(1, [tf.reshape(t, [-1,1]) for t in symbol_returns.values()])\n",
    "        daily_returns_by_symbol = tf.transpose(tf.reshape(daily_returns_by_symbol_, [-1,2,num_samples]), [0,2,1]) #[?,5,2]\n",
    "        daily_returns = tf.reduce_mean(daily_returns_by_symbol, 2) # [?,5]\n",
    "\n",
    "        total_return = tf.reduce_prod(daily_returns+1, 0)\n",
    "        z = tf.ones_like(total_return) * -1\n",
    "        self.total_return = total_return = tf.add(total_return, z)\n",
    "\n",
    "\n",
    "        ann_vol = tf.mul(\n",
    "            tf.sqrt(tf.reduce_mean(tf.pow((daily_returns - tf.reduce_mean(daily_returns, 0)),2),0)) ,\n",
    "            np.sqrt(252)\n",
    "            )\n",
    "        self.sharpe = tf.div(total_return, ann_vol)\n",
    "        #Maybe metric slicing later\n",
    "        #segment_ids = tf.ones_like(daily_returns[:,0])\n",
    "        #partial_prod = tf.segment_prod(daily_returns+1, segment_ids)\n",
    "\n",
    "\n",
    "        training_target_cols = tf.concat(1, [tf.reshape(t, [-1,1]) for t in relevant_target_column.values()])\n",
    "        ones = tf.ones_like(training_target_cols)\n",
    "        gradient_ = tf.nn.sigmoid_cross_entropy_with_logits(training_target_cols, ones)\n",
    "\n",
    "        gradient = tf.transpose(tf.reshape(gradient_, [-1,2,num_samples]), [0,2,1]) #[?,5,2]\n",
    "\n",
    "        #cost = tf.mul(gradient , daily_returns_by_symbol_reshaped)\n",
    "        #cost = tf.mul(gradient , tf.expand_dims(daily_returns, -1))\n",
    "        cost = tf.mul(gradient , tf.expand_dims(total_return, -1))\n",
    "        #cost = tf.mul(gradient , tf.expand_dims(sharpe, -1))\n",
    "\n",
    "        self.optimizer = tf.train.GradientDescentOptimizer(0.0001).minimize(cost)\n",
    "        self.costfn = tf.reduce_mean(cost)"
   ]
  },
  {
   "cell_type": "code",
   "execution_count": 5,
   "metadata": {
    "collapsed": true
   },
   "outputs": [],
   "source": [
    "def run_train_results(m, epoch):\n",
    "    state = m.initial_state.eval()\n",
    "    full_feed = {m.inputs_: rets[:-1], m.targets_: rets[1:], m.initial_state: state}\n",
    "    \n",
    "    t,s, c = session.run([ m.total_return, m.sharpe, m.costfn], feed_dict=full_feed)\n",
    "    t = np.mean(t)\n",
    "    s = np.mean(s)\n",
    "    print(\"Epoch:\", '%04d' % (epoch+1), \"cost=\",c, \"total return=\", \"{:.9f}\".format(t), \n",
    "         \"sharpe=\", \"{:.9f}\".format(s))"
   ]
  },
  {
   "cell_type": "code",
   "execution_count": 6,
   "metadata": {
    "collapsed": false
   },
   "outputs": [],
   "source": [
    "def run_epoch(m, epoch):\n",
    "    \n",
    "    full_feed = {m.inputs_: rets[:-1], m.targets_: rets[1:]}\n",
    "    state = m.initial_state.eval()\n",
    "    for step, (x, y) in enumerate(lstm_iterator(rets,20,2 )):\n",
    "        #m.num_steps = len(x)\n",
    "        feed_dict = {m.inputs_: x, m.targets_: y, m.initial_state: state}\n",
    "        _ , state = session.run([m.optimizer, m.final_state], feed_dict=feed_dict)\n",
    "        \n",
    "    '''if (epoch+1)%2== 0:\n",
    "        t,s, c = session.run([ m.total_return, m.sharpe, m.costfn], feed_dict=feed_dict)#full_feed)#.reshape(1,-1).T})\n",
    "        t = np.mean(t)\n",
    "        s = np.mean(s)\n",
    "        print(\"Epoch:\", '%04d' % (epoch+1), \"cost=\",c, \"total return=\", \"{:.9f}\".format(t), \n",
    "             \"sharpe=\", \"{:.9f}\".format(s))'''"
   ]
  },
  {
   "cell_type": "code",
   "execution_count": 8,
   "metadata": {
    "collapsed": false
   },
   "outputs": [
    {
     "name": "stderr",
     "output_type": "stream",
     "text": [
      "WARNING:tensorflow:<tensorflow.python.ops.rnn_cell.BasicLSTMCell object at 0x1f464ed30>: Using a concatenated state is slower and will soon be deprecated.  Use state_is_tuple=True.\n",
      "WARNING:tensorflow:<tensorflow.python.ops.rnn_cell.BasicLSTMCell object at 0x1f464ed30>: Using a concatenated state is slower and will soon be deprecated.  Use state_is_tuple=True.\n",
      "WARNING:tensorflow:<tensorflow.python.ops.rnn_cell.BasicLSTMCell object at 0x1f464ed30>: Using a concatenated state is slower and will soon be deprecated.  Use state_is_tuple=True.\n",
      "WARNING:tensorflow:<tensorflow.python.ops.rnn_cell.BasicLSTMCell object at 0x1f464ed30>: Using a concatenated state is slower and will soon be deprecated.  Use state_is_tuple=True.\n"
     ]
    },
    {
     "name": "stdout",
     "output_type": "stream",
     "text": [
      "getting results...\n",
      "Epoch: 0001 cost= -0.50711 total return= -0.731922448 sharpe= -2.518890381\n",
      "getting results...\n",
      "Epoch: 0002 cost= -0.479199 total return= -0.690995097 sharpe= -2.211014509\n",
      "getting results...\n",
      "Epoch: 0003 cost= 0.802528 total return= 1.158372164 sharpe= 4.109907150\n",
      "getting results...\n",
      "Epoch: 0004 cost= -0.504468 total return= -0.728531718 sharpe= -2.387005329\n",
      "getting results...\n",
      "Epoch: 0005 cost= -0.607678 total return= -0.877253473 sharpe= -2.718842506\n",
      "getting results...\n",
      "Epoch: 0006 cost= 0.449566 total return= 0.648839116 sharpe= 2.242624998\n",
      "getting results...\n",
      "Epoch: 0007 cost= 0.223947 total return= 0.323118806 sharpe= 0.947408140\n",
      "getting results...\n",
      "Epoch: 0008 cost= 0.29168 total return= 0.421271563 sharpe= 1.259648323\n",
      "getting results...\n",
      "Epoch: 0009 cost= -0.353979 total return= -0.511379957 sharpe= -1.703359842\n",
      "getting results...\n",
      "Epoch: 0010 cost= -0.383745 total return= -0.553670168 sharpe= -1.732698441\n"
     ]
    }
   ],
   "source": [
    "with tf.Graph().as_default(), tf.Session() as session:\n",
    "    # initialize variables to random values\n",
    "    #init = tf.initialize_all_variables()\n",
    "    #sess.run(init)\n",
    "    # run optimizer on entire training data set many times\n",
    "    #train_size = train_ins.shape[0]\n",
    "    with tf.variable_scope(\"model\", reuse=None):#, initializer=init):\n",
    "        m = LSTMModel(num_steps = 20, num_samples = 5)#, config=config)\n",
    "    with tf.variable_scope(\"model\", reuse=True):#, initializer=init):\n",
    "        mvalid = LSTMModel(num_steps = len(rets) -1, num_samples = 1)#, config=config)\n",
    "    tf.initialize_all_variables().run()\n",
    "    for epoch in range(10):\n",
    "        #start = rng.randint(train_size-50)\n",
    "        #batch_size = rng.randint(2,25)\n",
    "        #end = min(train_size, start+batch_size)\n",
    "\n",
    "        run_epoch(m, epoch )\n",
    "        print('getting results...')\n",
    "        run_train_results(mvalid, epoch)\n",
    "        '''sess.run(optimizer, feed_dict={inputs_: train_ins[start:end], targets_: train_outs[start:end]})#.reshape(1,-1).T})\n",
    "        # every 1000 iterations record progress\n",
    "        if (epoch+1)%100== 0:\n",
    "            t,s, c = sess.run([ total_return, sharpe, costfn], feed_dict={inputs_: train_ins, targets_: train_outs})#.reshape(1,-1).T})\n",
    "            t = np.mean(t)\n",
    "            s = np.mean(s)\n",
    "            print(\"Epoch:\", '%04d' % (epoch+1), \"cost=\",c, \"total return=\", \"{:.9f}\".format(t), \n",
    "                 \"sharpe=\", \"{:.9f}\".format(s))\n",
    "            #print(t)'''"
   ]
  },
  {
   "cell_type": "code",
   "execution_count": null,
   "metadata": {
    "collapsed": true
   },
   "outputs": [],
   "source": []
  },
  {
   "cell_type": "code",
   "execution_count": null,
   "metadata": {
    "collapsed": true
   },
   "outputs": [],
   "source": []
  },
  {
   "cell_type": "code",
   "execution_count": null,
   "metadata": {
    "collapsed": true
   },
   "outputs": [],
   "source": []
  },
  {
   "cell_type": "code",
   "execution_count": 9,
   "metadata": {
    "collapsed": false
   },
   "outputs": [
    {
     "data": {
      "text/plain": [
       "<bound method Tensor.eval of <tf.Tensor 'RNN/BasicLSTMCell_19/concat:0' shape=(1, 42) dtype=float32>>"
      ]
     },
     "execution_count": 9,
     "metadata": {},
     "output_type": "execute_result"
    }
   ],
   "source": [
    "state.eval"
   ]
  },
  {
   "cell_type": "code",
   "execution_count": 16,
   "metadata": {
    "collapsed": false
   },
   "outputs": [],
   "source": [
    "# in sample results\n",
    "#init = tf.initialize_all_variables()\n",
    "#sess.run(init)\n",
    "d, t = sess.run([daily_returns, pos[0]], feed_dict=feed_dict)"
   ]
  },
  {
   "cell_type": "code",
   "execution_count": 16,
   "metadata": {
    "collapsed": false
   },
   "outputs": [
    {
     "data": {
      "text/plain": [
       "array([[-0.02278614, -0.01349073],\n",
       "       [ 0.01645574,  0.00046793],\n",
       "       [-0.06229091, -0.03424059],\n",
       "       [-0.02301918,  0.00290978],\n",
       "       [-0.01444814, -0.00732817],\n",
       "       [ 0.        , -0.00972121],\n",
       "       [ 0.00513662,  0.00950007],\n",
       "       [ 0.03661115,  0.02413904],\n",
       "       [-0.00243609,  0.01114777],\n",
       "       [-0.00534623, -0.00740445],\n",
       "       [-0.0391589 , -0.01933518],\n",
       "       [ 0.00744369,  0.0029232 ],\n",
       "       [ 0.0018748 ,  0.00951207],\n",
       "       [ 0.00845272,  0.00980073],\n",
       "       [-0.01468148, -0.01574339],\n",
       "       [-0.01610275, -0.03067165],\n",
       "       [-0.00137798,  0.00831226],\n",
       "       [ 0.00504581,  0.01337255],\n",
       "       [ 0.02328266,  0.00077818],\n",
       "       [ 0.0101487 ,  0.00700935]], dtype=float32)"
      ]
     },
     "execution_count": 16,
     "metadata": {},
     "output_type": "execute_result"
    }
   ],
   "source": [
    "x_"
   ]
  },
  {
   "cell_type": "code",
   "execution_count": 17,
   "metadata": {
    "collapsed": false
   },
   "outputs": [
    {
     "data": {
      "image/png": "[encoded data removed]",
      "text/plain": [
       "<matplotlib.figure.Figure at 0x10e3df898>"
      ]
     },
     "metadata": {},
     "output_type": "display_data"
    }
   ],
   "source": [
    "# equity curve\n",
    "for i in range(5):\n",
    "    plot(np.cumprod(d[:,[i]]+1))"
   ]
  },
  {
   "cell_type": "code",
   "execution_count": 18,
   "metadata": {
    "collapsed": false
   },
   "outputs": [
    {
     "data": {
      "text/plain": [
       "[<matplotlib.lines.Line2D at 0x11882d5c0>]"
      ]
     },
     "execution_count": 18,
     "metadata": {},
     "output_type": "execute_result"
    },
    {
     "data": {
      "image/png": "[encoded data removed]",
      "text/plain": [
       "<matplotlib.figure.Figure at 0x1168ed6a0>"
      ]
     },
     "metadata": {},
     "output_type": "display_data"
    }
   ],
   "source": [
    "plot(t)"
   ]
  },
  {
   "cell_type": "code",
   "execution_count": 66,
   "metadata": {
    "collapsed": false
   },
   "outputs": [],
   "source": [
    "#out of sample results\n",
    "d, t = sess.run([daily_returns, total_return], feed_dict={x: test_ins, y_: test_outs})"
   ]
  },
  {
   "cell_type": "code",
   "execution_count": 67,
   "metadata": {
    "collapsed": false
   },
   "outputs": [
    {
     "data": {
      "image/png": "[encoded data removed]",
      "text/plain": [
       "<matplotlib.figure.Figure at 0x1339154e0>"
      ]
     },
     "metadata": {},
     "output_type": "display_data"
    }
   ],
   "source": [
    "#out of sample results\n",
    "for i in range(5):\n",
    "    plot(np.cumprod(d[:,[i]]+1))"
   ]
  },
  {
   "cell_type": "code",
   "execution_count": null,
   "metadata": {
    "collapsed": true
   },
   "outputs": [],
   "source": []
  },
  {
   "cell_type": "code",
   "execution_count": null,
   "metadata": {
    "collapsed": true
   },
   "outputs": [],
   "source": []
  },
  {
   "cell_type": "code",
   "execution_count": null,
   "metadata": {
    "collapsed": true
   },
   "outputs": [],
   "source": []
  },
  {
   "cell_type": "code",
   "execution_count": null,
   "metadata": {
    "collapsed": true
   },
   "outputs": [],
   "source": []
  },
  {
   "cell_type": "code",
   "execution_count": null,
   "metadata": {
    "collapsed": true
   },
   "outputs": [],
   "source": []
  }
 ],
 "metadata": {
  "kernelspec": {
   "display_name": "Python 3",
   "language": "python",
   "name": "python3"
  },
  "language_info": {
   "codemirror_mode": {
    "name": "ipython",
    "version": 3
   },
   "file_extension": ".py",
   "mimetype": "text/x-python",
   "name": "python",
   "nbconvert_exporter": "python",
   "pygments_lexer": "ipython3",
   "version": "3.4.4"
  }
 },
 "nbformat": 4,
 "nbformat_minor": 0
}
