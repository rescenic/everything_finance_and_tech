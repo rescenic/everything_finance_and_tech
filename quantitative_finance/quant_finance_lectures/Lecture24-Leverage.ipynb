{
 "cells": [
  {
   "cell_type": "markdown",
   "metadata": {},
   "source": [
    "<a href=\"https://www.quantrocket.com\"><img alt=\"QuantRocket logo\" src=\"https://www.quantrocket.com/assets/img/notebook-header-logo.png\"></a>\n",
    "\n",
    "© Copyright Quantopian Inc.<br>\n",
    "© Modifications Copyright QuantRocket LLC<br>\n",
    "Licensed under the [Creative Commons Attribution 4.0](https://creativecommons.org/licenses/by/4.0/legalcode).<br>\n",
    "<a href=\"https://www.quantrocket.com/disclaimer/\">Disclaimer</a>"
   ]
  },
  {
   "cell_type": "markdown",
   "metadata": {},
   "source": [
    "***\n",
    "[Quant Finance Lectures](Introduction.ipynb) › Lecture 24 - Leverage\n",
    "***"
   ]
  },
  {
   "cell_type": "markdown",
   "metadata": {},
   "source": [
    "# Leverage\n",
    "by Maxwell Margenot and Delaney Granizo-Mackenzie"
   ]
  },
  {
   "cell_type": "markdown",
   "metadata": {},
   "source": [
    "## What is leverage?\n",
    "\n",
    "Leverage is borrowing money, then investing that money into some trading strategy so as to effectively multiply your initial capital base by some amount.\n",
    "\n",
    "More specifically, leverage is reinvesting debt to gain a greater return on an investment. We include debt in our asset portfolio as a financial instrument that pays one large cash flow upfront (the loan) and gradually pays negative cash flows out over time. The size of these negative cash flows is determined by the interest rate on our debt. The large upfront cashflow allows us to supplement our capital base. In this way we use our capital and our leverage together to purchase the assets necessary to execute our trading strategy.\n",
    "\n",
    "### Why would you do this?\n",
    "\n",
    "If you are confident in a strategy and believe it to be low risk, you can put more money than you currently have into that strategy in an effort to multiply your returns. You of course have to have confidence that the returns on your strategy will exceed the interest rate on your debt.\n",
    "\n",
    "### Risk Adjusted Returns\n",
    "\n",
    "We'll talk about this more later, but risk adjusted return is expressed in the Sharpe Ratio (excess returns/risk). A strategy with a high Sharpe Ratio may not have good absolute returns, say $2\\%$ annually, but if the Sharpe Ratio is high the risk will also be correspondingly low. Multiplying the capital base multiplies both the risk and returns of the strategy, keeping the Sharpe Ratio the same. See lower in the notebook for more."
   ]
  },
  {
   "cell_type": "markdown",
   "metadata": {},
   "source": [
    "## How do I use leverage?\n",
    "\n",
    "In the context of algorithmic trading we are specifically interested in margin and trading on margin. Trading on margin is a type of leverage as it involves taking out a loan from your broker and adding it to your capital base in order to increase the returns of your trading strategy. Since you are borrowing money to invest, you ideally only trade on margin when the returns of your strategy are greater than the interest that you pay on that debt. At many points in the execution of a trading strategy, you may attempt to make trades that would exceed your current capital. At this point, the broker checks if you are authorized to trade on margin (borrow money) and, if so, lends you the money necessary to execute the trade. Each person’s margin account will have different terms depending on their broker, size of account, risk of strategies, and other factors. \n",
    "\n",
    "If you have a profitable strategy, using leverage can prop up the amount of money that you make overall by padding the money that you are working with. The involvement of the broker is an important factor to consider when constructing algorithmic trading strategies because your trading strategy will borrow automatically as needed when you need more money to cover a position. You may want to limit how much leverage your strategy can take on so that you are not borrowing more than you are comfortable with.\n",
    "\n",
    "We measure the current leverage of a portfolio by examining the leverage ratio. The leverage ratio of an algorithm is calculated as the sum of your debt and your capital base divided by your capital base. We limit the amount of leverage that our strategy uses by limiting the leverage ratio.\n",
    "\n",
    "$$ \\text{Leverage Ratio} = \\frac{\\text{Debt} + \\text{Capital Base}}{\\text{Capital Base}}$$\n",
    "\n",
    "Let's look at a very simple example of how introducing leverage can affect a portfolio. Consider a single period model, consisting of today and tomorrow, in which we receive our returns tomorrow."
   ]
  },
  {
   "cell_type": "code",
   "execution_count": 1,
   "metadata": {
    "collapsed": false,
    "jupyter": {
     "outputs_hidden": false
    }
   },
   "outputs": [],
   "source": [
    "import numpy as np\n",
    "import pandas as pd\n",
    "import matplotlib.pyplot as plt"
   ]
  },
  {
   "cell_type": "code",
   "execution_count": 2,
   "metadata": {
    "collapsed": false,
    "jupyter": {
     "outputs_hidden": false
    },
    "scrolled": true
   },
   "outputs": [
    {
     "name": "stdout",
     "output_type": "stream",
     "text": [
      "Portfolio returns without leverage: 5000.0\n"
     ]
    }
   ],
   "source": [
    "capital_base = 100000\n",
    "r_p = 0.05 # Aggregate performance of assets in the portfolio\n",
    "r_no_lvg = capital_base * r_p\n",
    "print('Portfolio returns without leverage: {0}'.format(r_no_lvg))"
   ]
  },
  {
   "cell_type": "markdown",
   "metadata": {},
   "source": [
    "This is what portfolio returns look like without leverage. Let's add some debt, leveraging the portfolio, and see how the returns change."
   ]
  },
  {
   "cell_type": "code",
   "execution_count": 3,
   "metadata": {
    "collapsed": false,
    "jupyter": {
     "outputs_hidden": false
    }
   },
   "outputs": [
    {
     "name": "stdout",
     "output_type": "stream",
     "text": [
      "Portfolio returns with leverage: 10000.0\n",
      "Percentage returns with 2.0x leverage: 0.1\n"
     ]
    }
   ],
   "source": [
    "debt = 100000\n",
    "\n",
    "r_lvg = (capital_base + debt) * r_p\n",
    "r_lvg_pct = r_lvg / capital_base\n",
    "# Returns are calculated over the initial capital base\n",
    "# Think of the debt as an asset purchased and added to the portfolio\n",
    "lvg_ratio = (debt + capital_base) / capital_base\n",
    "print('Portfolio returns with leverage: {0}'.format(r_lvg))\n",
    "print('Percentage returns with {1}x leverage: {0}'.format(r_lvg_pct, lvg_ratio))"
   ]
  },
  {
   "cell_type": "markdown",
   "metadata": {},
   "source": [
    "This is the ideal situation, that someone would lend you money without asking for anything in return. It results in double the effective additive returns of an unlevered strategy, which is just delightful. However, we know that in the real world there is no way that this would actually happen. Let's consider what happens when we add in the effects of an interest payment in our one-period model."
   ]
  },
  {
   "cell_type": "code",
   "execution_count": 4,
   "metadata": {
    "collapsed": false,
    "jupyter": {
     "outputs_hidden": false
    }
   },
   "outputs": [
    {
     "name": "stdout",
     "output_type": "stream",
     "text": [
      "Portfolio returns with leverage and interest: 6500.0\n",
      "Percentage returns with 1.5x leverage and 2.0% interest: 0.065\n"
     ]
    }
   ],
   "source": [
    "capital_base = 100000\n",
    "debt = 50000\n",
    "i = 0.02\n",
    "r_p = 0.05\n",
    "\n",
    "int_pmt = i * debt\n",
    "r_lvg = (capital_base + debt) * r_p\n",
    "r_total = r_lvg - int_pmt\n",
    "r_pct_lvg = r_total / capital_base\n",
    "lvg_ratio = (capital_base + debt) / capital_base\n",
    "print('Portfolio returns with leverage and interest: {0}'.format(r_total))\n",
    "print('Percentage returns with {1}x leverage and {2}% interest: {0}'.format(r_pct_lvg, lvg_ratio, i * 100))"
   ]
  },
  {
   "cell_type": "markdown",
   "metadata": {},
   "source": [
    "That makes a lot more sense. It would be unreasonable for us to assume that we can add someone else's money to our portfolio without some sort of repayment schedule. Our returns are not as high as they were in the levered portfolio with no interest, but we are still gaining a greater amount of wealth by using leverage, despite the interest rates. As long as we have a reliable strategy that can make sufficient returns to offset the cost of debt we will be able to benefit from levering a portfolio.\n",
    "\n",
    "Our additive returns have increased over our unlevered strategy, but overall we are gaining a lower percentage return. This is not entirely a bad thing, as with a larger amount of money to trade on we are able to add more overall value to our portfolio. However, if we are not careful with how we manage leverage, we could potentially end up spending all of our profits trying to pay off the interest that we accrued to make them in the first place.\n",
    "\n",
    "This single-period model is only a small piece of the story. Loans are rarely, if ever, paid off in one period. Payments are spread out over the life of a loan, ensuring that you do not simply get the money for free. In this context, to properly earn a profit using the leverage, we obviously have to be making more money than we are paying out."
   ]
  },
  {
   "cell_type": "markdown",
   "metadata": {},
   "source": [
    "## How do I get leverage?\n",
    "\n",
    "Naturally, borrowing money to do anything will incur interest payments and additional fees. When trading with leverage, or on margin, these loans will come from your broker. Many brokers are loathe to part with their cash without a good reason. Using leverage with high volatility strategies can be dangerous unless you have a high tolerance for risk. Even if you lose money, you still have to pay the broker!"
   ]
  },
  {
   "cell_type": "markdown",
   "metadata": {},
   "source": [
    "## Leverage in an algorithm\n",
    "\n",
    "Handling leverage gets significantly more complicated when we are dealing with an algorithm. Every time an algorithm rebalances its portfolio or makes a trade, there is a possibility of affecting the leverage ratio. If there isn't enough cash on hand to cover its positions it will need to borrow more. In the same vein, it may be utilizing overall less cash for the next set of trades, decreasing the leverage ratio.\n",
    "\n",
    "This is an example plot of the leverage ratio from a long-short equity strategy that rebalances monthly based on fundamental value factors."
   ]
  },
  {
   "cell_type": "markdown",
   "metadata": {},
   "source": [
    "![Leverage Plot](Lecture24-Leverage-Plot.png)"
   ]
  },
  {
   "cell_type": "markdown",
   "metadata": {},
   "source": [
    "Notice how the leverage ratio of this algorithm jumps around quite frequently. The ratio is below $1$ when it is not using all of its base capital and it spikes above $1$ whenever it makes a trade on margin. \n",
    "\n",
    "A key feature of a long-short equity strategy is that it can trade hundreds, sometimes even thousands of equities at once. As such, we run the risk of incurring some fairly large rebalancing costs, depending on how frequently we rebalance. This algorithm specifically rebalances on a monthly basis. As we can see on the above graph of the leverage ratio, a lot of the largest changes occur aroud the start of each month.\n",
    "\n",
    "Here are the associated returns of this algorithm. The volatility of these returns is important to take into account when examining the leverage of a strategy."
   ]
  },
  {
   "cell_type": "markdown",
   "metadata": {},
   "source": [
    "![Returns Plot](Lecture24-Leverage-Returns-Plot.png)"
   ]
  },
  {
   "cell_type": "markdown",
   "metadata": {},
   "source": [
    "Using leverage can be dangerous when you are dealing with a more volatile strategy. Because you are trading with borrowed money, you are on the hook to return it. You have to make sure that the broker gets their money back before you get your profit. If you end up in a position where you get a margin call, you have to pony up more funds if you want to hold your positions. Monitoring your strategy's volatility and ensuring you are only taking on palatable amounts of debt are key aspects of determining the quality of your trading strategy."
   ]
  },
  {
   "cell_type": "markdown",
   "metadata": {},
   "source": [
    "## Risk-Adjusted Returns\n",
    "\n",
    "Comparing returns of different investment opportunities without taking risk into account is meaningless. Some return streams may be higher than others, but this may be due to the risks taken on rather than any merit in the strategy itself. Taking on higher risk should in theory lead to higher returns, but then how do we judge the quality of these returns for the amount of risk we have to handle? This is where risk-adjusted returns and methods of risk-adjustment come into play. If we adjust several return streams for risk then we can consider them on equal footing, independent of the risk. This allows us to effectively compare and determine which return streams are the best for a given desired risk profile.\n",
    "\n",
    "One of the most prominent risk-adjusted measures is the Sharpe Ratio, defined as follows.\n",
    "\n",
    "$$ \\text{Sharpe Ratio} = \\frac{r_p - r_f}{\\sigma_p} $$\n",
    "\n",
    "The Sharpe Ratio essentially normalizes the returns of a portfolio, giving us a metric that we can use as a measure of quality relative to other revenue streams. A higher Sharpe Ratio indicates that you are getting more return relative to the risk that your strategy is taking on."
   ]
  },
  {
   "cell_type": "markdown",
   "metadata": {},
   "source": [
    "### Compare Strategies by Sharpe Ratio and then Lever as Needed\n",
    "\n",
    "In general you want to compare the Sharpe Ratio of two strategies you may be interested in. Pick the strategy with the better Sharpe Ratio and then use leverage to multiply the returns up to where you want them. Assuming constraints like capital capacity don't kick in, you can add more money through leverage and bring a $2\\%$ per year strategy up to a $10\\%$ per year strategy while maintaining the same Sharpe, or invest a fraction of your available capital to bring a $20\\%$ per year strategy's risk down to acceptable levels.\n",
    "\n",
    "### Example\n",
    "\n",
    "We'll show a simple example using real numbers."
   ]
  },
  {
   "cell_type": "code",
   "execution_count": 5,
   "metadata": {
    "collapsed": false,
    "jupyter": {
     "outputs_hidden": false
    }
   },
   "outputs": [
    {
     "name": "stdout",
     "output_type": "stream",
     "text": [
      "Strategy A Sharpe: 1.3333333333333335\n",
      "Strategy B Sharpe: 1.5\n",
      "Strategy B Sharpe: 1.5000000000000004\n",
      "Strategy B Levered Annual Returns: 0.09000000000000002\n"
     ]
    }
   ],
   "source": [
    "# Note these are all expected returns. You need to validate that\n",
    "# your strategy will continue to produce these returns and volatility using other methods.\n",
    "# Just measuring historically is a very poor predictor of future performance.\n",
    "# We'll for now assume you've already validated that you can expect to keep seeing numbers similar to these.\n",
    "\n",
    "strat_A_ann_return = 0.22\n",
    "strat_A_ann_vol = 0.15\n",
    "\n",
    "strat_B_ann_return = 0.05\n",
    "strat_B_ann_vol = 0.02\n",
    "\n",
    "# We'll assume a risk free rate of 0.02\n",
    "risk_free_rate = 0.02\n",
    "\n",
    "print('Strategy A Sharpe:', (strat_A_ann_return - risk_free_rate) / strat_A_ann_vol)\n",
    "print('Strategy B Sharpe:', (strat_B_ann_return - risk_free_rate) / strat_B_ann_vol)\n",
    "\n",
    "# Add in leverage to B\n",
    "\n",
    "leverage = 3\n",
    "# Expressed in returns\n",
    "\n",
    "print('Strategy B Sharpe:', (strat_B_ann_return * leverage - risk_free_rate * leverage) / (strat_B_ann_vol * leverage))\n",
    "print('Strategy B Levered Annual Returns:', (strat_B_ann_return * leverage - risk_free_rate * leverage))"
   ]
  },
  {
   "cell_type": "markdown",
   "metadata": {},
   "source": [
    "## Portfolio Re-Weighting\n",
    "\n",
    "Portfolio weighting can be considered an example of applying leverage to a strategy. If you assign more of your portfolio weight to a strategy, you have upped the capital amount and multiplied both the returns and volatility. Likewise, if you have a strategy that has high returns but high volatility, you can provide it less weight so that you divide the volatility."
   ]
  },
  {
   "cell_type": "markdown",
   "metadata": {},
   "source": [
    "---\n",
    "\n",
    "**Next Lecture:** [Position Concentration Risk](Lecture25-Position-Concentration-Risk.ipynb)\n",
    "\n",
    "[Back to Introduction](Introduction.ipynb) "
   ]
  },
  {
   "cell_type": "markdown",
   "metadata": {},
   "source": [
    "---\n",
    "\n",
    "*This presentation is for informational purposes only and does not constitute an offer to sell, a solicitation to buy, or a recommendation for any security; nor does it constitute an offer to provide investment advisory or other services by QuantRocket LLC (\"QuantRocket\"). Nothing contained herein constitutes investment advice or offers any opinion with respect to the suitability of any security, and any views expressed herein should not be taken as advice to buy, sell, or hold any security or as an endorsement of any security or company.  In preparing the information contained herein, the authors have not taken into account the investment needs, objectives, and financial circumstances of any particular investor. Any views expressed and data illustrated herein were prepared based upon information believed to be reliable at the time of publication. QuantRocket makes no guarantees as to their accuracy or completeness. All information is subject to change and may quickly become unreliable for various reasons, including changes in market conditions or economic circumstances.*"
   ]
  }
 ],
 "metadata": {
  "kernelspec": {
   "display_name": "Python 3.9",
   "language": "python",
   "name": "python3"
  },
  "language_info": {
   "codemirror_mode": {
    "name": "ipython",
    "version": 3
   },
   "file_extension": ".py",
   "mimetype": "text/x-python",
   "name": "python",
   "nbconvert_exporter": "python",
   "pygments_lexer": "ipython3",
   "version": "3.9.7"
  }
 },
 "nbformat": 4,
 "nbformat_minor": 4
}
