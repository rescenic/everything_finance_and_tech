{
 "cells": [
  {
   "cell_type": "markdown",
   "metadata": {},
   "source": [
    "<a href=\"https://www.quantrocket.com\"><img alt=\"QuantRocket logo\" src=\"https://www.quantrocket.com/assets/img/notebook-header-logo.png\"></a><br>\n",
    "<a href=\"https://www.quantrocket.com/disclaimer/\">Disclaimer</a>"
   ]
  },
  {
   "cell_type": "markdown",
   "metadata": {},
   "source": [
    "***\n",
    "[Quant Finance Lectures](Introduction.ipynb) › Data Collection\n",
    "***"
   ]
  },
  {
   "cell_type": "markdown",
   "metadata": {},
   "source": [
    "# Collect US Stock Data\n",
    "\n",
    "For the sake of convenience, before collecting the full dataset, we recommend collecting the [free sample dataset](Part1-Data-USStock-Sample.ipynb) first. Having it available will allow you to execute the example data queries as written, without having to modify them to point to the full dataset.\n",
    "\n",
    "The US Stock data bundle contains both minute and daily data, but most of the lectures only utilize the daily data. For the few lectures that do use minute data, the free data bundle provides adequate coverage. Collecting the full dataset with minute data takes approximately 12-15 hours, versus only a minute for the daily data, so in this notebook we will only collect the daily portion of the bundle. However, the full minute dataset can also be used for the lectures. \n",
    "\n",
    "Once you have collected the sample data, create a bundle for the full dataset called 'usstock-1d-bundle':"
   ]
  },
  {
   "cell_type": "code",
   "execution_count": 1,
   "metadata": {},
   "outputs": [
    {
     "data": {
      "text/plain": [
       "{'status': 'success', 'msg': 'successfully created usstock-1d-bundle bundle'}"
      ]
     },
     "execution_count": 1,
     "metadata": {},
     "output_type": "execute_result"
    }
   ],
   "source": [
    "from quantrocket.zipline import create_usstock_bundle\n",
    "create_usstock_bundle(\"usstock-1d-bundle\", data_frequency=\"daily\")"
   ]
  },
  {
   "cell_type": "markdown",
   "metadata": {},
   "source": [
    "Then ingest the data:"
   ]
  },
  {
   "cell_type": "code",
   "execution_count": 2,
   "metadata": {},
   "outputs": [
    {
     "data": {
      "text/plain": [
       "{'status': 'the data will be ingested asynchronously'}"
      ]
     },
     "execution_count": 2,
     "metadata": {},
     "output_type": "execute_result"
    }
   ],
   "source": [
    "from quantrocket.zipline import ingest_bundle\n",
    "ingest_bundle(\"usstock-1d-bundle\")"
   ]
  },
  {
   "cell_type": "markdown",
   "metadata": {},
   "source": [
    "Use flightlog to monitor the progress:\n",
    "\n",
    "```\n",
    "quantrocket.zipline: INFO [usstock-1d-bundle] Ingesting daily bars for usstock-1d-bundle bundle\n",
    "quantrocket.zipline: INFO [usstock-1d-bundle] Ingesting adjustments for usstock-1d-bundle bundle\n",
    "quantrocket.zipline: INFO [usstock-1d-bundle] Ingesting assets for usstock-1d-bundle bundle\n",
    "quantrocket.zipline: INFO [usstock-1d-bundle] Completed ingesting data for 18638 securities in usstock-1d-bundle bundle\n",
    "```"
   ]
  },
  {
   "cell_type": "markdown",
   "metadata": {},
   "source": [
    "---\n",
    "\n",
    "**First Lecture**: [Introduction to Notebooks](Lecture01-Introduction-to-Notebooks.ipynb) \n",
    "\n",
    "[Back to Introduction](Introduction.ipynb) "
   ]
  }
 ],
 "metadata": {
  "kernelspec": {
   "display_name": "Python 3.9",
   "language": "python",
   "name": "python3"
  },
  "language_info": {
   "codemirror_mode": {
    "name": "ipython",
    "version": 3
   },
   "file_extension": ".py",
   "mimetype": "text/x-python",
   "name": "python",
   "nbconvert_exporter": "python",
   "pygments_lexer": "ipython3",
   "version": "3.9.7"
  }
 },
 "nbformat": 4,
 "nbformat_minor": 4
}
