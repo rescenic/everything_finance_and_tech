{
 "cells": [
  {
   "cell_type": "markdown",
   "metadata": {},
   "source": [
    "<a href=\"https://www.quantrocket.com\"><img alt=\"QuantRocket logo\" src=\"https://www.quantrocket.com/assets/img/notebook-header-logo.png\"></a><br>\n",
    "<a href=\"https://www.quantrocket.com/disclaimer/\">Disclaimer</a>"
   ]
  },
  {
   "cell_type": "markdown",
   "metadata": {},
   "source": [
    "***\n",
    "[Quant Finance Lectures](Introduction.ipynb) › Data Collection\n",
    "***"
   ]
  },
  {
   "cell_type": "markdown",
   "metadata": {},
   "source": [
    "# Collect US Stock Sample Data\n",
    "\n",
    "This tutorial outlines how to collect sample data for US stocks. This dataset contains minute data, but also supports querying of daily data. The dataset is synced from QuantRocket's cloud and stored in a Zipline bundle, a type of local database. See the usage guide for more information.   "
   ]
  },
  {
   "cell_type": "markdown",
   "metadata": {},
   "source": [
    "Start by creating an empty bundle called 'usstock-free-1min':"
   ]
  },
  {
   "cell_type": "code",
   "execution_count": 1,
   "metadata": {},
   "outputs": [
    {
     "data": {
      "text/plain": [
       "{'status': 'success', 'msg': 'successfully created usstock-free-1min bundle'}"
      ]
     },
     "execution_count": 1,
     "metadata": {},
     "output_type": "execute_result"
    }
   ],
   "source": [
    "from quantrocket.zipline import create_usstock_bundle\n",
    "create_usstock_bundle(\"usstock-free-1min\", free=True)"
   ]
  },
  {
   "cell_type": "markdown",
   "metadata": {},
   "source": [
    "Then collect the data, which in Zipline bundle terminology is referred to as ingestion:"
   ]
  },
  {
   "cell_type": "code",
   "execution_count": 2,
   "metadata": {},
   "outputs": [
    {
     "data": {
      "text/plain": [
       "{'status': 'the data will be ingested asynchronously'}"
      ]
     },
     "execution_count": 2,
     "metadata": {},
     "output_type": "execute_result"
    }
   ],
   "source": [
    "from quantrocket.zipline import ingest_bundle\n",
    "ingest_bundle(\"usstock-free-1min\")"
   ]
  },
  {
   "cell_type": "markdown",
   "metadata": {},
   "source": [
    "Use flightlog to monitor the progress:\n",
    "\n",
    "```\n",
    "quantrocket.zipline: INFO [usstock-free-1min] Ingesting minute bars for 9 securities in usstock-free-1min bundle\n",
    "quantrocket.zipline: INFO [usstock-free-1min] Ingesting daily bars for usstock-free-1min bundle\n",
    "quantrocket.zipline: INFO [usstock-free-1min] Ingesting adjustments for usstock-free-1min bundle\n",
    "quantrocket.zipline: INFO [usstock-free-1min] Ingesting assets for usstock-free-1min bundle\n",
    "quantrocket.zipline: INFO [usstock-free-1min] Completed ingesting data for 9 securities in usstock-free-1min bundle\n",
    "```"
   ]
  },
  {
   "cell_type": "markdown",
   "metadata": {},
   "source": [
    "---\n",
    "\n",
    "**First Lecture**: [Introduction to Notebooks](Lecture01-Introduction-to-Notebooks.ipynb) \n",
    "\n",
    "[Back to Introduction](Introduction.ipynb) "
   ]
  }
 ],
 "metadata": {
  "kernelspec": {
   "display_name": "Python 3.9",
   "language": "python",
   "name": "python3"
  },
  "language_info": {
   "codemirror_mode": {
    "name": "ipython",
    "version": 3
   },
   "file_extension": ".py",
   "mimetype": "text/x-python",
   "name": "python",
   "nbconvert_exporter": "python",
   "pygments_lexer": "ipython3",
   "version": "3.9.7"
  }
 },
 "nbformat": 4,
 "nbformat_minor": 4
}
