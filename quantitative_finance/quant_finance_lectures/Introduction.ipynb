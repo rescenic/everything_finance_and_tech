{
 "cells": [
  {
   "cell_type": "markdown",
   "metadata": {},
   "source": [
    "<a href=\"https://www.quantrocket.com\"><img alt=\"QuantRocket logo\" src=\"https://www.quantrocket.com/assets/img/notebook-header-logo.png\"></a><br>\n",
    "<a href=\"https://www.quantrocket.com/disclaimer/\">Disclaimer</a>"
   ]
  },
  {
   "cell_type": "markdown",
   "metadata": {},
   "source": [
    "# Quantitative Finance Lecture Series\n",
    "\n",
    "Learn quantitative finance with this comprehensive lecture series. Adapted from the Quantopian Lecture Series ([GitHub source repo](https://github.com/quantopian/research_public/tree/3bd730f292aa76d7c546f9a400583399030c8f65)) and updated to use QuantRocket APIs and data.\n"
   ]
  },
  {
   "cell_type": "markdown",
   "metadata": {},
   "source": [
    "## Background\n",
    "\n",
    "Quantopian was a crowd-sourced hedge fund that operated a research and backtesting platform where users could develop trading algorithms, a selection of which were licensed by Quantopian for inclusion in its hedge fund. To support its business objective, Quantopian developed several open-source Python libraries, including Zipline, one of QuantRocket's two backtesters. Quantopian also developed a comprehensive lecture series on quantitative finance, which it released under a Creative Commons license. The lectures were originally developed to use Python 2 and Quantopian data, but have here been updated to use Python 3 and QuantRocket data.    \n",
    "\n",
    "Following the closure of its crowd-sourced hedged fund, Quantopian shut down in 2020."
   ]
  },
  {
   "cell_type": "markdown",
   "metadata": {},
   "source": [
    "## Lecture Series Overview\n",
    "\n",
    "The lectures are divided into three sections:\n",
    "\n",
    "1. **Intro to Python**: These lectures provide an introduction to Jupyter notebooks, Python, and several key data processing libraries in Python.\n",
    "2. **Topics in Statistics**: Covering a variety of topics that are broadly applicable in the field of statistics, these lectures are not specific to finance but typically include example applications to finance. \n",
    "3. **Topics in Finance**: Building on the statistics lectures, these lectures dive into topics more specific to finance and portfolio management.\n",
    "\n",
    "For computational analysis, the lectures rely most heavily on Python's numerous scientific computing libraries. Some of the lectures on financial topics also rely on the Pipeline API, which is part of Zipline, a backtester which was created by Quantopian and is available in QuantRocket. For data, the lectures utilize randomly generated data as well as actual financial data from QuantRocket.\n",
    "\n",
    "The primary focus of Quantopian's crowd-sourced hedge fund was to develop market-neutral, long-short equity strategies for institutional investors. Consequently, the lectures are tilted toward this particular style of investment.  \n",
    "\n",
    "Although the lectures use QuantRocket APIs to load data, they are not primarily QuantRocket tutorials. The purpose of the lectures is to provide a theoretical foundation in quantitative finance. Most of the computational methods employed in the lectures (excluding the Pipeline API) are readily available in any Python research environment. For practical guidance on how to backtest and deploy trading strategies in QuantRocket, other examples in the [Code Library](https://www.quantrocket.com/code/) may be more suitable."
   ]
  },
  {
   "cell_type": "markdown",
   "metadata": {},
   "source": [
    "## Data Requirements\n",
    "\n",
    "Most lectures can be completed using free sample data from QuantRocket. Some lectures are designed to use larger datasets that require a QuantRocket subscription. These lectures can still be completed without a QuantRocket subscription by simply reading along (without querying data) or by substituting free sample data.   \n",
    "\n",
    "The data requirements for each lecture are noted in the table below."
   ]
  },
  {
   "cell_type": "markdown",
   "metadata": {},
   "source": [
    "## Version\n",
    "\n",
    "Due to the large variety of computational libraries used, the lectures are somewhat sensitive to version changes in the underlying libraries. The lectures were last updated and verified to be working with the library versions available in QuantRocket version 2.8.0. "
   ]
  },
  {
   "cell_type": "markdown",
   "metadata": {},
   "source": [
    "## Contents\n",
    "\n",
    "| | Title | Description | Required Dataset(s) \n",
    "| :- | :- | :- | :-\n",
    "| **Data Collection Tutorials** | | | \n",
    "| Data Collection 1 | [Sample Dataset for US Stocks](Part1-Data-USStock-Sample.ipynb) | Collect free sample data (minute and daily) for US Stocks | -\n",
    "| Data Collection 2 | [Full Dataset for US Stocks](Part2-Data-USStock.ipynb) | Collect the full dataset for US Stocks. QuantRocket subscription required. | -\n",
    "| Data Collection 3 | [Sharadar US Fundamentals](Part3-Data-Sharadar-Fundamentals.ipynb) | Collect fundamental data for US Stocks from Sharadar. QuantRocket subscription and Sharadar subscription required. | -\n",
    "| **Intro to Python** | | | \n",
    "| Lecture 1 | [Introduction to Notebooks](Lecture01-Introduction-to-Notebooks.ipynb) | Introductory tutorial demonstrating how to use Jupyter Notebooks | Sample Data\n",
    "| Lecture 2 | [Introduction to Python](Lecture02-Introduction-to-Python.ipynb) | Basic introduction to Python semantics and data structures | -\n",
    "| Lecture 3 | [Introduction to NumPy](Lecture03-Introduction-to-NumPy.ipynb) | Introduction to NumPy, a data computation library | -\n",
    "| Lecture 4 | [Introduction to pandas](Lecture04-Introduction-to-Pandas.ipynb) | Introduction to pandas, a library for managing and analyzing data | Sample Data\n",
    "| Lecture 5 | [Plotting Data](Lecture05-Plotting-Data.ipynb) | How to plot data with matplotlib | Sample Data\n",
    "| **Topics in Statistics** | | | \n",
    "| Lecture 6 | [Means](Lecture06-Means.ipynb) | Understanding and calculating different types of means | Sample Data\n",
    "| Lecture 7 | [Variance](Lecture07-Variance.ipynb) | Understanding and calculating measures of dispersion | -\n",
    "| Lecture 8 | [Statistical Moments](Lecture08-Statistical-Moments.ipynb) | Understanding skewness and kurtosis | Sample Data\n",
    "| Lecture 9 | [Linear Correlation Analysis](Lecture09-Linear-Correlation-Analysis.ipynb) | Understanding correlation and its relation to variance | Sample Data\n",
    "| Lecture 10 | [Instability of Estimates](Lecture10-Instability-of-Estimates.ipynb) | How estimates can change with new data observations | Sample Data\n",
    "| Lecture 11 | [Random Variables](Lecture11-Random-Variables.ipynb) | Understanding discrete and continuous random variables and probability distributions | Sample Data\n",
    "| Lecture 12 | [Linear Regression](Lecture12-Linear-Regression.ipynb) | Using linear regression to understand the relationship between two variables | Sample Data\n",
    "| Lecture 13 | [Maximum Likelihood Estimation](Lecture13-Maximum-Likelihood-Estimation.ipynb) | Basic introduction to maximum likelihood estimation, a method of estimating a probability distribution | Sample Data\n",
    "| Lecture 14 | [Regression Model Instability](Lecture14-Regression-Model-Instability.ipynb) | Why regression coeffecients can change due to factors like regime change and multicollinearity | Sample Data\n",
    "| Lecture 15 | [Multiple Linear Regression](Lecture15-Multiple-Linear-Regression.ipynb) | Multiple linear regression generalizes linear regression to multiple variables | Sample Data\n",
    "| Lecture 16 | [Violations of Regression Models](Lecture16-Violations-of-Regression-Models.ipynb) | Different scenarios that can violate regression assumptions | Full US Stock\n",
    "| Lecture 17 | [Model Misspecification](Lecture17-Model-Misspecification.ipynb) | What can cause a bad model to look good | Sample Data<br>Full US Stock<br>Sharadar fundamentals\n",
    "| Lecture 18 | [Residual Analysis](Lecture18-Residual-Analysis.ipynb) | How to analyze residuals to build healthier models | Sample Data\n",
    "| Lecture 19 | [Dangers of Overfitting](Lecture19-Dangers-of-Overfitting.ipynb) | How overfitting can make a bad model seem attractive | Sample Data\n",
    "| Lecture 20 | [Hypothesis Testing](Lecture20-Hypothesis-Testing.ipynb) | Statistical techniques for rejecting the null hypothesis | Sample Data\n",
    "| Lecture 21 | [Confidence Intervals](Lecture21-Confidence-Intervals.ipynb) | How to measure and interpret confidence intervals | -\n",
    "| Lecture 22 | [Spearman Rank Correlation](Lecture22-Spearman-Rank-Correlation.ipynb) | How to measure monotonic but non-linear relationships | Sample Data\n",
    "| Lecture 23 | [p-Hacking and Multiple Comparisons Bias](Lecture23-p-Hacking-and-Multiple-Comparisons-Bias.ipynb) | How to avoid getting tricked by false positives | -\n",
    "| **Topics in Finance** | | | \n",
    "| Lecture 24 | [Leverage](Lecture24-Leverage.ipynb) | Using borrowed money to amplify returns | -\n",
    "| Lecture 25 | [Position Concentration Risk](Lecture25-Position-Concentration-Risk.ipynb) | The riskiness of investing in a small number of assets | -\n",
    "| Lecture 26 | [Estimating Covariance Matrices](Lecture26-Estimating-Covariance-Matrices.ipynb) | Using covariance matrices to model portfolio volatility | Full US Stock\n",
    "| Lecture 27 | [Introduction to Volume, Slippage, and Liquidity](Lecture27-Introduction-to-Volume-Slippage-and-Liquidity.ipynb) | An overview of liquidity and how it can affect your trading strategies | Sample Data\n",
    "| Lecture 28 | [Market Impact Models](Lecture28-Market-Impact-Models.ipynb) | Understanding how your own trading activity moves the market price | Sample Data\n",
    "| Lecture 29 | [Universe Selection](Lecture29-Universe-Selection.ipynb) | Defining a trading universe | Full US Stock<br>Sharadar fundamentals\n",
    "| Lecture 30 | [The Capital Asset Pricing Model and Arbitrage Pricing Theory](Lecture30-CAPM-and-Arbitrage-Pricing-Theory.ipynb) | Using CAPM and Arbitrage Pricing Theory to evaluate risk | Full US Stock<br>Sharadar fundamentals\n",
    "| Lecture 31 | [Beta Hedging](Lecture31-Beta-Hedging.ipynb) | Hedging your algorithm's market risk | Sample Data\n",
    "| Lecture 32 | [Fundamental Factor Models](Lecture32-Fundamental-Factor-Models.ipynb) | Using fundamental data in factor models  | Full US Stock<br>Sharadar fundamentals\n",
    "| Lecture 33 | [Portfolio Analysis with pyfolio](Lecture33-Portfolio-Analysis-with-pyfolio.ipynb) | Evaluating backtest performance using pyfolio | -\n",
    "| Lecture 34 | [Factor Risk Exposure](Lecture34-Factor-Risk-Exposure.ipynb) | Understanding and measuring your algorithm's exposure to common risk factors | Full US Stock<br>Sharadar fundamentals\n",
    "| Lecture 35 | [Risk-Constrained Portfolio Optimization](Lecture35-Risk-Constrained-Portfolio-Optimization.ipynb) | Managing risk factor exposure | Full US Stock<br>Sharadar fundamentals\n",
    "| Lecture 36 | [Principal Component Analysis](Lecture36-PCA.ipynb) | Using PCA to understand the key drivers of portfolio returns | Full US Stock\n",
    "| Lecture 37 | [Long-Short Equity](Lecture37-Long-Short-Equity.ipynb) | Introduction to market-neutral strategies | -\n",
    "| Lecture 38 | [Factor Analysis with Alphalens](Lecture38-Factor-Analysis-with-Alphalens.ipynb) | Using Alphalens to evaluate alpha factors | Full US Stock \n",
    "| Lecture 39 | [Why You Should Hedge Beta and Sector Exposures](Lecture39-Why-Hedge.ipynb) | How hedging common risk exposures can improve portfolio performance | Full US Stock\n",
    "| Lecture 40 | [VaR and CVaR](Lecture40-VaR-and-CVaR.ipynb) | Using Value at Risk to estimate potential loss | Full US Stock\n",
    "| Lecture 41 | [Integration, Cointegration, and Stationarity](Lecture41-Integration-Cointegration-and-Stationarity.ipynb) | Introduction to stationarity and cointegration, which underpins pairs trading | Sample Data<br>Full US Stock\n",
    "| Lecture 42 | [Introduction to Pairs Trading](Lecture42-Introduction-to-Pairs-Trading.ipynb) | A theoretical and practical introduction to pairs trading |  Full US Stock\n",
    "| Lecture 43 | [Autocorrelation and AR Models](Lecture43-Autocorrelation-and-AR-Models.ipynb) | Understanding how autocorrelation creates tail risk | -\n",
    "| Lecture 44 | [ARCH, GARCH, and GMM](Lecture44-ARCH-GARCH-and-GMM.ipynb) | Introduction to volatility forecasting models | -\n",
    "| Lecture 45 | [Kalman Filters](Lecture45-Kalman-Filters.ipynb) | Using Kalman filters to extract signals from noisy data | Sample Data"
   ]
  },
  {
   "cell_type": "markdown",
   "metadata": {},
   "source": [
    "## License \n",
    "\n",
    "© Copyright Quantopian, Inc.<br>\n",
    "© Modifications Copyright QuantRocket LLC\n",
    "\n",
    "Licensed under the [Creative Commons Attribution 4.0](https://creativecommons.org/licenses/by/4.0/legalcode)."
   ]
  }
 ],
 "metadata": {
  "kernelspec": {
   "display_name": "Python 3.9",
   "language": "python",
   "name": "python3"
  },
  "language_info": {
   "codemirror_mode": {
    "name": "ipython",
    "version": 3
   },
   "file_extension": ".py",
   "mimetype": "text/x-python",
   "name": "python",
   "nbconvert_exporter": "python",
   "pygments_lexer": "ipython3",
   "version": "3.9.7"
  }
 },
 "nbformat": 4,
 "nbformat_minor": 4
}
