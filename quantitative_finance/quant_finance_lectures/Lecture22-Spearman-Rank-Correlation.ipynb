{
 "cells": [
  {
   "cell_type": "markdown",
   "metadata": {},
   "source": [
    "<a href=\"https://www.quantrocket.com\"><img alt=\"QuantRocket logo\" src=\"https://www.quantrocket.com/assets/img/notebook-header-logo.png\"></a>\n",
    "\n",
    "© Copyright Quantopian Inc.<br>\n",
    "© Modifications Copyright QuantRocket LLC<br>\n",
    "Licensed under the [Creative Commons Attribution 4.0](https://creativecommons.org/licenses/by/4.0/legalcode).<br>\n",
    "<a href=\"https://www.quantrocket.com/disclaimer/\">Disclaimer</a>"
   ]
  },
  {
   "cell_type": "markdown",
   "metadata": {},
   "source": [
    "***\n",
    "[Quant Finance Lectures](Introduction.ipynb) › Lecture 22 - Spearman Rank Correlation\n",
    "***"
   ]
  },
  {
   "cell_type": "markdown",
   "metadata": {},
   "source": [
    "# Measuring Monotonic Relationships\n",
    "By Evgenia \"Jenny\" Nitishinskaya and Delaney Granizo-Mackenzie with example algorithms by David Edwards"
   ]
  },
  {
   "cell_type": "markdown",
   "metadata": {},
   "source": [
    "The Spearman Rank Correlation Coefficient allows us to determine whether or not two data series move together; that is, when one increases (decreases) the other also increases (decreases). This is more general than a linear relationship; for instance, $y = e^x$ is a monotonic function, but not a linear one. Therefore, in computing it we compare not the raw data but the ranks of the data.\n",
    "\n",
    "This is useful when your data sets may be in different units, and therefore not linearly related (for example, the price of a square plot of land and its side length, since the price is more likely to be linear in the area). It's also suitable for data sets which do not satisfy the assumptions that other tests require, such as the observations being normally distributed as would be necessary for a t-test."
   ]
  },
  {
   "cell_type": "code",
   "execution_count": 1,
   "metadata": {},
   "outputs": [],
   "source": [
    "import numpy as np\n",
    "import pandas as pd\n",
    "import scipy.stats as stats\n",
    "import matplotlib.pyplot as plt\n",
    "import math"
   ]
  },
  {
   "cell_type": "code",
   "execution_count": 2,
   "metadata": {
    "collapsed": false,
    "jupyter": {
     "outputs_hidden": false
    }
   },
   "outputs": [
    {
     "name": "stdout",
     "output_type": "stream",
     "text": [
      "Raw data: [10, 9, 5, 7, 5]\n",
      "Ranking: [5.0, 4.0, 1.5, 3.0, 1.5]\n"
     ]
    }
   ],
   "source": [
    "# Example of ranking data\n",
    "l = [10, 9, 5, 7, 5]\n",
    "print('Raw data:', l)\n",
    "print('Ranking:', list(stats.rankdata(l, method='average')))"
   ]
  },
  {
   "cell_type": "markdown",
   "metadata": {},
   "source": [
    "## Spearman Rank Correlation\n",
    "\n",
    "### Intuition\n",
    "\n",
    "The intution is now that instead of looking at the relationship between the two variables, we look at the relationship between the ranks. This is robust to outliers and the scale of the data.\n",
    "\n",
    "### Definition\n",
    "\n",
    "The argument `method='average'` indicates that when we have a tie, we average the ranks that the numbers would occupy. For example, the two $5$s above, which would take up ranks 1 and 2, each get assigned a rank of $1.5$.\n",
    "\n",
    "To compute the Spearman rank correlation for two data sets $X$ and $Y$, each of size $n$, we use the formula\n",
    "$$r_S = 1 - \\frac{6 \\sum_{i=1}^n d_i^2}{n(n^2 - 1)}$$\n",
    "\n",
    "where $d_i$ is the difference between the ranks of the $i$th pair of observations, $X_i - Y_i$.\n",
    "\n",
    "The result will always be between $-1$ and $1$. A positive value indicates a positive relationship between the variables, while a negative value indicates an inverse relationship. A value of 0 implies the absense of any monotonic relationship. This does not mean that there is no relationship; for instance, if $Y$ is equal to $X$ with a delay of 2, they are related simply and precisely, but their $r_S$ can be close to zero:"
   ]
  },
  {
   "cell_type": "markdown",
   "metadata": {},
   "source": [
    "## Experiment\n",
    "\n",
    "Let's see what happens if we draw $X$ from a poisson distribution (non-normal), and then set $Y = e^X + \\epsilon$ where $\\epsilon$ is drawn from another poisson distribution. We'll take the spearman rank and the correlation coefficient on this data and then run the entire experiment many times. Because $e^X$ produces many values that are far away from the rest, we can think of this as modeling 'outliers' in our data. Spearman rank compresses the outliers and does better at measuring correlation. Normal correlation is confused by the outliers and on average will measure less of a relationship than is actually there."
   ]
  },
  {
   "cell_type": "code",
   "execution_count": 3,
   "metadata": {
    "collapsed": false,
    "jupyter": {
     "outputs_hidden": false
    }
   },
   "outputs": [
    {
     "name": "stdout",
     "output_type": "stream",
     "text": [
      "Spearman Rank Coefficient: 0.8784615961596159\n",
      "Correlation coefficient: 0.7713366604097229\n"
     ]
    }
   ],
   "source": [
    "## Let's see an example of this\n",
    "n = 100\n",
    "\n",
    "def compare_correlation_and_spearman_rank(n, noise):\n",
    "    X = np.random.poisson(size=n)\n",
    "    Y = np.exp(X) + noise * np.random.normal(size=n)\n",
    "\n",
    "    Xrank = stats.rankdata(X, method='average')\n",
    "    # n-2 is the second to last element\n",
    "    Yrank = stats.rankdata(Y, method='average')\n",
    "\n",
    "    diffs = Xrank - Yrank # order doesn't matter since we'll be squaring these values\n",
    "    r_s = 1 - 6*sum(diffs*diffs)/(n*(n**2 - 1))\n",
    "    c_c = np.corrcoef(X, Y)[0,1]\n",
    "    \n",
    "    return r_s, c_c\n",
    "\n",
    "experiments = 1000\n",
    "spearman_dist = np.ndarray(experiments)\n",
    "correlation_dist = np.ndarray(experiments)\n",
    "for i in range(experiments):\n",
    "    r_s, c_c = compare_correlation_and_spearman_rank(n, 1.0)\n",
    "    spearman_dist[i] = r_s\n",
    "    correlation_dist[i] = c_c\n",
    "    \n",
    "print('Spearman Rank Coefficient: ' + str(np.mean(spearman_dist)))\n",
    "# Compare to the regular correlation coefficient\n",
    "print('Correlation coefficient: ' + str(np.mean(correlation_dist)))"
   ]
  },
  {
   "cell_type": "markdown",
   "metadata": {},
   "source": [
    "Let's take a look at the distribution of measured correlation coefficients and compare the spearman with the regular metric."
   ]
  },
  {
   "cell_type": "code",
   "execution_count": 4,
   "metadata": {
    "collapsed": false,
    "jupyter": {
     "outputs_hidden": false
    }
   },
   "outputs": [
    {
     "data": {
      "image/png": "[encoded data removed]",
      "text/plain": [
       "<Figure size 1152x432 with 1 Axes>"
      ]
     },
     "metadata": {
      "needs_background": "light"
     },
     "output_type": "display_data"
    }
   ],
   "source": [
    "plt.hist(spearman_dist, bins=50, alpha=0.5)\n",
    "plt.hist(correlation_dist, bins=50, alpha=0.5)\n",
    "plt.legend(['Spearman Rank', 'Regular Correlation'])\n",
    "plt.xlabel('Correlation Coefficient')\n",
    "plt.ylabel('Frequency');"
   ]
  },
  {
   "cell_type": "markdown",
   "metadata": {},
   "source": [
    "Now let's see how the Spearman rank and Regular coefficients cope when we add more noise to the situation."
   ]
  },
  {
   "cell_type": "code",
   "execution_count": 5,
   "metadata": {
    "collapsed": false,
    "jupyter": {
     "outputs_hidden": false
    }
   },
   "outputs": [
    {
     "data": {
      "text/plain": [
       "Text(0, 0.5, 'Average Correlation Coefficient')"
      ]
     },
     "execution_count": 5,
     "metadata": {},
     "output_type": "execute_result"
    },
    {
     "data": {
      "image/png": "[encoded data removed]",
      "text/plain": [
       "<Figure size 1152x432 with 1 Axes>"
      ]
     },
     "metadata": {
      "needs_background": "light"
     },
     "output_type": "display_data"
    }
   ],
   "source": [
    "n = 100\n",
    "noises = np.linspace(0, 3, 30)\n",
    "experiments = 100\n",
    "spearman = np.ndarray(len(noises))\n",
    "correlation = np.ndarray(len(noises))\n",
    "\n",
    "for i in range(len(noises)):\n",
    "    # Run many experiments for each noise setting\n",
    "    rank_coef = 0.0\n",
    "    corr_coef = 0.0\n",
    "    noise = noises[i]\n",
    "    for j in range(experiments):\n",
    "        r_s, c_c = compare_correlation_and_spearman_rank(n, noise)\n",
    "        rank_coef += r_s\n",
    "        corr_coef += c_c\n",
    "    spearman[i] = rank_coef/experiments\n",
    "    correlation[i] = corr_coef/experiments\n",
    "    \n",
    "plt.scatter(noises, spearman, color='r')\n",
    "plt.scatter(noises, correlation)\n",
    "plt.legend(['Spearman Rank', 'Regular Correlation'])\n",
    "plt.xlabel('Amount of Noise')\n",
    "plt.ylabel('Average Correlation Coefficient')"
   ]
  },
  {
   "cell_type": "markdown",
   "metadata": {},
   "source": [
    "We can see that the Spearman rank correlation copes with the non-linear relationship much better at most levels of noise. Interestingly, at very high levels, it seems to do worse than regular correlation."
   ]
  },
  {
   "cell_type": "markdown",
   "metadata": {},
   "source": [
    "## Delay in correlation\n",
    "\n",
    "Or you might have the case that one process affects another, but after a time lag. Now let's see what happens if we add the delay."
   ]
  },
  {
   "cell_type": "code",
   "execution_count": 6,
   "metadata": {
    "collapsed": false,
    "jupyter": {
     "outputs_hidden": false
    }
   },
   "outputs": [
    {
     "name": "stdout",
     "output_type": "stream",
     "text": [
      "-0.040975097509750924\n"
     ]
    }
   ],
   "source": [
    "n = 100\n",
    "\n",
    "X = np.random.rand(n)\n",
    "Xrank = stats.rankdata(X, method='average')\n",
    "# n-2 is the second to last element\n",
    "Yrank = stats.rankdata([1,1] + list(X[:(n-2)]), method='average')\n",
    "\n",
    "diffs = Xrank - Yrank # order doesn't matter since we'll be squaring these values\n",
    "r_s = 1 - 6*sum(diffs*diffs)/(n*(n**2 - 1))\n",
    "print(r_s)"
   ]
  },
  {
   "cell_type": "markdown",
   "metadata": {},
   "source": [
    "Sure enough, the relationship is not detected. It is important when using both regular and spearman correlation to check for lagged relationships by offsetting your data and testing for different offset values."
   ]
  },
  {
   "cell_type": "markdown",
   "metadata": {},
   "source": [
    "## Built-In Function\n",
    "\n",
    "We can also use the `spearmanr` function in the `scipy.stats` library:"
   ]
  },
  {
   "cell_type": "code",
   "execution_count": 7,
   "metadata": {
    "collapsed": false,
    "jupyter": {
     "outputs_hidden": false
    }
   },
   "outputs": [
    {
     "name": "stdout",
     "output_type": "stream",
     "text": [
      "Spearman Rank Coefficient: 0.23636363636363633\n",
      "p-value: 0.5108853175152002\n"
     ]
    }
   ],
   "source": [
    "# Generate two random data sets\n",
    "np.random.seed(161)\n",
    "X = np.random.rand(10)\n",
    "Y = np.random.rand(10)\n",
    "\n",
    "r_s = stats.spearmanr(X, Y)\n",
    "print('Spearman Rank Coefficient:', r_s[0])\n",
    "print('p-value:', r_s[1])"
   ]
  },
  {
   "cell_type": "markdown",
   "metadata": {},
   "source": [
    "We now have ourselves an $r_S$, but how do we interpret it? It's positive, so we know that the variables are not anticorrelated. It's not very large, so we know they aren't perfectly positively correlated, but it's hard to say from a glance just how significant the correlation is. Luckily, `spearmanr` also computes the p-value for this coefficient and sample size for us. We can see that the p-value here is above 0.05; therefore, we cannot claim that $X$ and $Y$ are correlated.\n",
    "\n",
    "## Real World Example: Mutual Fund Expense Ratio\n",
    "\n",
    "Now that we've seen how Spearman rank correlation works, we'll quickly go through the process again with some real data. For instance, we may wonder whether the expense ratio of a mutual fund is indicative of its three-year Sharpe ratio. That is, does spending more money on administration, management, etc. lower the risk or increase the returns? Our p-value cutoff will be the usual default of 0.05.\n",
    "\n",
    "### Data Source\n",
    "\n",
    "Thanks to [Matthew Madurski](https://github.com/dursk) for the data. First, download the data:\n",
    "\n",
    "NOTE: prefixing a cell with `!` causes the cell to be executed as a shell command instead of as Python code."
   ]
  },
  {
   "cell_type": "code",
   "execution_count": 8,
   "metadata": {},
   "outputs": [
    {
     "name": "stdout",
     "output_type": "stream",
     "text": [
      "  % Total    % Received % Xferd  Average Speed   Time    Time     Time  Current\n",
      "                                 Dload  Upload   Total   Spent    Left  Speed\n",
      "  0     0    0     0    0     0      0      0 --:--:-- --:--:-- --:--:--     0\n",
      "100  1708  100  1708    0     0   4217      0 --:--:-- --:--:-- --:--:--  4217\n"
     ]
    }
   ],
   "source": [
    "!curl -L 'https://gist.github.com/dursk/82eee65b7d1056b469ab/raw/2b3ad3b3b1b8964a22db73730c24b366e0df51b0/mutual_fund_data.csv' -o 'mutual_fund_data.csv'"
   ]
  },
  {
   "cell_type": "code",
   "execution_count": 9,
   "metadata": {
    "collapsed": false,
    "jupyter": {
     "outputs_hidden": false
    }
   },
   "outputs": [
    {
     "name": "stdout",
     "output_type": "stream",
     "text": [
      "Spearman Rank Coefficient:  -0.23757393235503554\n",
      "p-value:  0.016746509711640854\n"
     ]
    },
    {
     "data": {
      "image/png": "[encoded data removed]",
      "text/plain": [
       "<Figure size 1152x432 with 1 Axes>"
      ]
     },
     "metadata": {
      "needs_background": "light"
     },
     "output_type": "display_data"
    }
   ],
   "source": [
    "mutual_fund_data = pd.read_csv('mutual_fund_data.csv')\n",
    "expense = mutual_fund_data['Annual Expense Ratio'].values\n",
    "sharpe = mutual_fund_data['Three Year Sharpe Ratio'].values\n",
    "\n",
    "plt.scatter(expense, sharpe)\n",
    "plt.xlabel('Expense Ratio')\n",
    "plt.ylabel('Sharpe Ratio')\n",
    "\n",
    "r_S = stats.spearmanr(expense, sharpe)\n",
    "print('Spearman Rank Coefficient: ', r_S[0])\n",
    "print('p-value: ', r_S[1])"
   ]
  },
  {
   "cell_type": "markdown",
   "metadata": {},
   "source": [
    "Our p-value is below the cutoff, which means we accept the hypothesis that the two are correlated. The negative coefficient indicates that there is a negative correlation, and that more expensive mutual funds have worse sharpe ratios. However, there is some weird clustering in the data, it seems there are expensive groups with low sharpe ratios, and a main group whose sharpe ratio is unrelated to the expense. Further analysis would be required to understand what's going on here."
   ]
  },
  {
   "cell_type": "markdown",
   "metadata": {},
   "source": [
    "## Real World Use Case: Evaluating a Ranking Model\n",
    "\n",
    "NOTE: The Factor Analysis lecture covers this topic in much greater detail.\n",
    "\n",
    "Let's say that we have some way of ranking securities and that we'd like to test how well our ranking performs in practice. In this case our model just takes the mean daily return for the last month and ranks the stocks by that metric. \n",
    "\n",
    "We hypothesize that this will be predictive of the mean returns over the next month. To test this we score the stocks based on a lookback window, then take the spearman rank correlation of the score and the mean returns over the walk forward month."
   ]
  },
  {
   "cell_type": "code",
   "execution_count": 10,
   "metadata": {
    "collapsed": false,
    "jupyter": {
     "outputs_hidden": false
    }
   },
   "outputs": [
    {
     "name": "stdout",
     "output_type": "stream",
     "text": [
      "Our Scores\n",
      "\n",
      "Sid\n",
      "AAPL   -0.001875\n",
      "HD      0.002908\n",
      "JNJ    -0.001483\n",
      "KKD    -0.002153\n",
      "MON     0.000292\n",
      "MSFT   -0.002075\n",
      "XOM     0.000181\n",
      "dtype: float64\n",
      "\n",
      "\n",
      "The Walk Forward Returns\n",
      "\n",
      "Sid\n",
      "AAPL    0.003927\n",
      "HD      0.000668\n",
      "JNJ    -0.002168\n",
      "KKD     0.000332\n",
      "MON    -0.000732\n",
      "MSFT   -0.007298\n",
      "XOM    -0.003050\n",
      "dtype: float64\n",
      "\n",
      "\n",
      "Correlation Coefficient:0.14285714285714288\n",
      "p-value:0.7599453002180929\n"
     ]
    },
    {
     "data": {
      "image/png": "[encoded data removed]",
      "text/plain": [
       "<Figure size 1152x432 with 1 Axes>"
      ]
     },
     "metadata": {
      "needs_background": "light"
     },
     "output_type": "display_data"
    }
   ],
   "source": [
    "from quantrocket.master import get_securities\n",
    "from quantrocket import get_prices\n",
    "\n",
    "symbol_list = ['AAPL', 'MSFT', 'JNJ', 'HD', 'MON', 'XOM', 'KKD']\n",
    "\n",
    "securities = get_securities(symbols=symbol_list, vendors='usstock')\n",
    "\n",
    "# Get the returns over the lookback window\n",
    "start = '2014-12-01'\n",
    "end = '2015-01-01'\n",
    "\n",
    "prices = get_prices('usstock-free-1min', data_frequency='daily', sids=securities.index.tolist(), fields='Close', start_date=start, end_date=end)\n",
    "historical_returns = prices.loc['Close'].pct_change()[1:]\n",
    "\n",
    "sids_to_symbols = securities.Symbol.to_dict()\n",
    "historical_returns = historical_returns.rename(columns=sids_to_symbols)\n",
    "\n",
    "# Compute our stock score\n",
    "scores = np.mean(historical_returns)\n",
    "print('Our Scores\\n')\n",
    "print(scores)\n",
    "print('\\n')\n",
    "\n",
    "start = '2015-01-01'\n",
    "end = '2015-02-01'\n",
    "prices = get_prices('usstock-free-1min', data_frequency='daily', sids=securities.index.tolist(), fields='Close', start_date=start, end_date=end)\n",
    "walk_forward_returns = prices.loc['Close'].pct_change()[1:]\n",
    "walk_forward_returns = walk_forward_returns.rename(columns=sids_to_symbols)\n",
    "walk_forward_returns = np.mean(walk_forward_returns)\n",
    "print('The Walk Forward Returns\\n')\n",
    "print(walk_forward_returns)\n",
    "print('\\n')\n",
    "\n",
    "plt.scatter(scores, walk_forward_returns)\n",
    "plt.xlabel('Scores')\n",
    "plt.ylabel('Walk Forward Returns')\n",
    "\n",
    "r_s = stats.spearmanr(scores, walk_forward_returns)\n",
    "print('Correlation Coefficient:' + str(r_s[0]))\n",
    "print('p-value:' + str(r_s[1]))"
   ]
  },
  {
   "cell_type": "markdown",
   "metadata": {},
   "source": [
    "The p-value indicates that our hypothesis is false and we accept the null hypothesis that our ranking was no better than random. This is a really good check of any ranking system one devises for constructing a long-short equity portfolio."
   ]
  },
  {
   "cell_type": "markdown",
   "metadata": {},
   "source": [
    "## References\n",
    "\n",
    "* DeFusco, Richard A. \"Tests Concerning Correlation: The Spearman Rank Correlation Coefficient.\" *Quantitative Investment Analysis*. Hoboken, NJ: Wiley, 2007"
   ]
  },
  {
   "cell_type": "markdown",
   "metadata": {},
   "source": [
    "---\n",
    "\n",
    "**Next Lecture:** [p-Hacking and Multiple Comparisons Bias](Lecture23-p-Hacking-and-Multiple-Comparisons-Bias.ipynb) \n",
    "\n",
    "[Back to Introduction](Introduction.ipynb) "
   ]
  },
  {
   "cell_type": "markdown",
   "metadata": {},
   "source": [
    "---\n",
    "\n",
    "*This presentation is for informational purposes only and does not constitute an offer to sell, a solicitation to buy, or a recommendation for any security; nor does it constitute an offer to provide investment advisory or other services by QuantRocket LLC (\"QuantRocket\"). Nothing contained herein constitutes investment advice or offers any opinion with respect to the suitability of any security, and any views expressed herein should not be taken as advice to buy, sell, or hold any security or as an endorsement of any security or company.  In preparing the information contained herein, the authors have not taken into account the investment needs, objectives, and financial circumstances of any particular investor. Any views expressed and data illustrated herein were prepared based upon information believed to be reliable at the time of publication. QuantRocket makes no guarantees as to their accuracy or completeness. All information is subject to change and may quickly become unreliable for various reasons, including changes in market conditions or economic circumstances.*"
   ]
  }
 ],
 "metadata": {
  "kernelspec": {
   "display_name": "Python 3.9",
   "language": "python",
   "name": "python3"
  },
  "language_info": {
   "codemirror_mode": {
    "name": "ipython",
    "version": 3
   },
   "file_extension": ".py",
   "mimetype": "text/x-python",
   "name": "python",
   "nbconvert_exporter": "python",
   "pygments_lexer": "ipython3",
   "version": "3.9.7"
  }
 },
 "nbformat": 4,
 "nbformat_minor": 4
}
