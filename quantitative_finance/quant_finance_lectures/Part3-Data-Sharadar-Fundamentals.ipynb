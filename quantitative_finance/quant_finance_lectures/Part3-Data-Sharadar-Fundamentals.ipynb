{
 "cells": [
  {
   "cell_type": "markdown",
   "metadata": {},
   "source": [
    "<a href=\"https://www.quantrocket.com\"><img alt=\"QuantRocket logo\" src=\"https://www.quantrocket.com/assets/img/notebook-header-logo.png\"></a><br>\n",
    "<a href=\"https://www.quantrocket.com/disclaimer/\">Disclaimer</a>"
   ]
  },
  {
   "cell_type": "markdown",
   "metadata": {},
   "source": [
    "***\n",
    "[Quant Finance Lectures](Introduction.ipynb) › Data Collection\n",
    "***"
   ]
  },
  {
   "cell_type": "markdown",
   "metadata": {},
   "source": [
    "# Collect Sharadar fundamentals\n",
    "\n",
    "Collect the full US fundamentals dataset from Sharadar by running the following function:"
   ]
  },
  {
   "cell_type": "code",
   "execution_count": 1,
   "metadata": {},
   "outputs": [
    {
     "data": {
      "text/plain": [
       "{'status': 'the fundamental data will be collected asynchronously'}"
      ]
     },
     "execution_count": 1,
     "metadata": {},
     "output_type": "execute_result"
    }
   ],
   "source": [
    "from quantrocket.fundamental import collect_sharadar_fundamentals\n",
    "collect_sharadar_fundamentals(country=\"US\")"
   ]
  },
  {
   "cell_type": "markdown",
   "metadata": {},
   "source": [
    "This runs in the background, monitor flightlog for a completion message:\n",
    "\n",
    "```\n",
    "quantrocket.fundamental: INFO Collecting Sharadar US fundamentals\n",
    "quantrocket.fundamental: INFO Collecting updated Sharadar US securities listings\n",
    "quantrocket.fundamental: INFO Finished collecting Sharadar US fundamentals\n",
    "```"
   ]
  },
  {
   "cell_type": "markdown",
   "metadata": {},
   "source": [
    "---\n",
    "\n",
    "**First Lecture**: [Introduction to Notebooks](Lecture01-Introduction-to-Notebooks.ipynb) \n",
    "\n",
    "[Back to Introduction](Introduction.ipynb) "
   ]
  }
 ],
 "metadata": {
  "kernelspec": {
   "display_name": "Python 3.9",
   "language": "python",
   "name": "python3"
  },
  "language_info": {
   "codemirror_mode": {
    "name": "ipython",
    "version": 3
   },
   "file_extension": ".py",
   "mimetype": "text/x-python",
   "name": "python",
   "nbconvert_exporter": "python",
   "pygments_lexer": "ipython3",
   "version": "3.9.7"
  }
 },
 "nbformat": 4,
 "nbformat_minor": 4
}
